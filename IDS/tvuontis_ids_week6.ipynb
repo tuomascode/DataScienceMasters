{
 "cells": [
  {
   "cell_type": "markdown",
   "metadata": {},
   "source": [
    "# Introduction to Data Science 2025\n",
    "\n",
    "# Week 6: Recap"
   ]
  },
  {
   "cell_type": "markdown",
   "metadata": {},
   "source": [
    "## Exercise 1 | Linear regression with feature selection"
   ]
  },
  {
   "cell_type": "markdown",
   "metadata": {},
   "source": [
    "Download the [TED Talks](https://www.kaggle.com/rounakbanik/ted-talks) dataset from Kaggle. Your task is to predict both the ratings and the number of views of a given TED talk. You should focus only on the <span style=\"font-weight: bold\">ted_main</span> table.\n",
    "\n",
    "1. Download the data, extract the following ratings from column <span style=\"font-weight: bold\">ratings</span>: <span style=\"font-weight: bold\">Funny</span>, <span style=\"font-weight: bold\">Confusing</span>, <span style=\"font-weight: bold\">Inspiring</span>. Store these values into respective columns so that they are easier to access. Next, extract the tags from column <span style=\"font-weight: bold\">tags</span>. Count the number of occurrences of each tag and select the top-100 most common tags. Create a binary variable for each of these and include them in your data table, so that you can directly see whether a given tag (among the top-100 tags) is used in a given TED talk or not. The dataset you compose should have dimension (2550, 104), and comprise of the 'views' column, the three columns with counts of \"Funny\", \"Confusing and \"Inspiring\" ratings, and 100 columns which one-hot encode the top-100 most common tag columns.\n"
   ]
  },
  {
   "cell_type": "code",
   "execution_count": 1,
   "metadata": {},
   "outputs": [
    {
     "data": {
      "text/plain": [
       "['comments',\n",
       " 'description',\n",
       " 'duration',\n",
       " 'event',\n",
       " 'film_date',\n",
       " 'languages',\n",
       " 'main_speaker',\n",
       " 'name',\n",
       " 'num_speaker',\n",
       " 'published_date',\n",
       " 'ratings',\n",
       " 'related_talks',\n",
       " 'speaker_occupation',\n",
       " 'tags',\n",
       " 'title',\n",
       " 'url',\n",
       " 'views',\n",
       " 'Funny',\n",
       " 'Confusing',\n",
       " 'Inspiring']"
      ]
     },
     "execution_count": 1,
     "metadata": {},
     "output_type": "execute_result"
    }
   ],
   "source": [
    "import pandas as pd\n",
    "import json\n",
    "\n",
    "df = pd.read_csv(\"ted_main.csv\")\n",
    "ratings = df[\"ratings\"]\n",
    "\n",
    "interesting_ratings = [\"Funny\", \"Confusing\", \"Inspiring\",]\n",
    "\n",
    "new_df_dict = {i:[] for i in interesting_ratings}\n",
    "\n",
    "for row in ratings.iloc:\n",
    "    data = json.loads(row.replace(\"'\", '\"'))\n",
    "    new_data = {}\n",
    "    for rating_dict in data:\n",
    "        if rating_dict['name'] in interesting_ratings:\n",
    "            new_data[rating_dict['name']] = rating_dict['count']\n",
    "    for intr in interesting_ratings:\n",
    "        new_df_dict[intr].append(new_data[intr])\n",
    "\n",
    "df = pd.concat([df, pd.DataFrame(new_df_dict)], axis=1)\n",
    "df.head(1)\n",
    "list(df)"
   ]
  },
  {
   "cell_type": "code",
   "execution_count": 2,
   "metadata": {},
   "outputs": [],
   "source": [
    "tags = df['tags']\n",
    "tag_dict = {}\n",
    "for row in tags.iloc:\n",
    "    row = row[1:-1].split(\", \")\n",
    "    for tag in row:\n",
    "        tag = tag[1:-1]\n",
    "        tag_dict[tag] = tag_dict.get(tag, 0) + 1\n",
    "tags_and_counts = sorted([(key, val) for key, val in tag_dict.items()], key=lambda x:x[1], reverse=True)\n",
    "top_hundred_tags = [i[0] for i in tags_and_counts[:100]]\n",
    "\n",
    "\n",
    "new_tag_dict = {i:[] for i in top_hundred_tags}\n",
    "for row in tags.iloc:\n",
    "    tag_binary_dict = {i:0 for i in top_hundred_tags}\n",
    "    row = row[1:-1].split(\", \")\n",
    "    for tag in row:\n",
    "        tag = tag[1:-1]\n",
    "        if tag in top_hundred_tags:\n",
    "            tag_binary_dict[tag] += 1\n",
    "    for tag, hit in tag_binary_dict.items():\n",
    "        new_tag_dict[tag].append(hit)\n",
    "\n",
    "drop_columns = [i for i in list(df.columns) if i not in ['views', 'Funny', 'Confusing', 'Inspiring']]\n",
    "df.drop(drop_columns,axis=1, inplace=True)\n",
    "df = pd.concat([df, pd.DataFrame(new_tag_dict)], axis=1)\n",
    "\n",
    "assert df.shape == (2550, 104)"
   ]
  },
  {
   "cell_type": "markdown",
   "metadata": {},
   "source": [
    "2. Construct a linear regression model to predict the number of views based on the data in the <span style=\"font-weight: bold\">ted_main</span> table, including the binary variables for the top-100 tags that you just created."
   ]
  },
  {
   "cell_type": "code",
   "execution_count": 3,
   "metadata": {},
   "outputs": [
    {
     "name": "stdout",
     "output_type": "stream",
     "text": [
      "Number of views:\n",
      "\tReal: 3200520\n",
      "\tPred: 2281936\n",
      "\tDiff: 0.29\n"
     ]
    },
    {
     "data": {
      "text/plain": [
       "Series([], dtype: float64)"
      ]
     },
     "execution_count": 3,
     "metadata": {},
     "output_type": "execute_result"
    }
   ],
   "source": [
    "from sklearn.linear_model import LinearRegression\n",
    "\n",
    "def linear_model(df, to_predict):\n",
    "\n",
    "    columns = [i for i in df.columns if i not in [to_predict]]\n",
    "\n",
    "    reg = LinearRegression().fit(df[columns], df[to_predict])\n",
    "    real_views = df[to_predict].iloc[1]\n",
    "\n",
    "    predicted_views = reg.predict(df[columns].iloc[[1]])[0]\n",
    "\n",
    "    print(f\"Number of {to_predict}:\\n\\tReal: {real_views}\\n\\tPred: {round(predicted_views)}\\n\\tDiff: {(real_views-round(predicted_views))/max(real_views, round(predicted_views)):.2f}\")\n",
    "    return reg, pd.Series(reg.coef_, index=columns)\n",
    "\n",
    "\n",
    "_, imp = linear_model(df, 'views')\n",
    "imp[[]].head(5)\n",
    "\n"
   ]
  },
  {
   "cell_type": "markdown",
   "metadata": {},
   "source": [
    "3. Do the same for the <span style=\"font-weight: bold\">Funny</span>, <span style=\"font-weight: bold\">Confusing</span>, and <span style=\"font-weight: bold\">Inspiring</span> ratings."
   ]
  },
  {
   "cell_type": "code",
   "execution_count": 4,
   "metadata": {},
   "outputs": [
    {
     "name": "stdout",
     "output_type": "stream",
     "text": [
      "Number of Funny:\n",
      "\tReal: 544\n",
      "\tPred: 358\n",
      "\tDiff: 0.34\n",
      "Number of Confusing:\n",
      "\tReal: 62\n",
      "\tPred: 39\n",
      "\tDiff: 0.37\n",
      "Number of Inspiring:\n",
      "\tReal: 413\n",
      "\tPred: 1127\n",
      "\tDiff: -0.63\n"
     ]
    }
   ],
   "source": [
    "# Use this cell for your code\n",
    "for pred in ['Funny', 'Confusing', 'Inspiring']:\n",
    "    linear_model(df, pred)"
   ]
  },
  {
   "cell_type": "markdown",
   "metadata": {},
   "source": [
    "4. You will probably notice that most of the tags are not useful in predicting the views and the ratings. You should use some kind of variable selection to prune the set of tags that are included in the model. You can use for example classical p-values or more modern [LASSO](https://en.wikipedia.org/wiki/Lasso_(statistics)) techniques. Which tags are the best predictors of each of the response variables?"
   ]
  },
  {
   "cell_type": "code",
   "execution_count": 5,
   "metadata": {},
   "outputs": [
    {
     "name": "stdout",
     "output_type": "stream",
     "text": [
      "['religion', 'design', 'culture', 'brain', 'Funny', 'business', 'Inspiring', 'physics', 'education', 'psychology', 'evolution', 'life', 'neuroscience', 'global issues', 'Confusing', 'creativity', 'mind', 'science', 'philosophy', 'humor', 'views', 'innovation', 'entertainment', 'live music', 'mental health', 'economics', 'demo', 'children', 'TEDx']\n"
     ]
    }
   ],
   "source": [
    "# Use this cell for your code\n",
    "from sklearn.linear_model import Lasso\n",
    "from sklearn.preprocessing import StandardScaler\n",
    "from sklearn.pipeline import make_pipeline\n",
    "\n",
    "def get_importance(target, df, standardize = True) -> pd.Series:\n",
    "    columns = [i for i in list(df) if i != target]\n",
    "    lasso_model = Lasso(alpha=0.1)\n",
    "    if standardize:\n",
    "        lasso_model = make_pipeline(StandardScaler(), Lasso(alpha=0.1))\n",
    "    X = df[columns]\n",
    "    y = df[target]\n",
    "\n",
    "    lasso_model.fit(X, y)\n",
    "    if standardize:\n",
    "        coefs = lasso_model.named_steps['lasso'].coef_\n",
    "    else:\n",
    "        coefs = lasso_model.coef_\n",
    "    return pd.Series(coefs, index=columns).sort_values(key=abs, ascending=False)\n",
    "\n",
    "predictors = []\n",
    "importances: list[pd.Series] = []\n",
    "for target in ['views', 'Funny', 'Confusing', 'Inspiring']:\n",
    "    importances.append(get_importance(target, df))\n",
    "    predictors += importances[-1].head(10).index.to_list()\n",
    "\n",
    "predictors = list(set(predictors))\n",
    "print(predictors)"
   ]
  },
  {
   "cell_type": "markdown",
   "metadata": {},
   "source": [
    "5. Produce summaries of your results. Could you recommend good tags – or tags to avoid! – for speakers targeting plenty of views and/or certain ratings?"
   ]
  },
  {
   "cell_type": "code",
   "execution_count": 6,
   "metadata": {},
   "outputs": [
    {
     "name": "stdout",
     "output_type": "stream",
     "text": [
      "Recommendations for: views\n",
      "\tTo improve, use these tags:\n",
      "\t\tdemo, psychology, global issues, life, philosophy, TEDx, design, creativity, brain, children\n",
      "\tTo improve, avoid these tags:\n",
      "\t\tinequality, energy, biotech, mind, identity, entrepreneur, space, sustainability, violence, big problems\n",
      "Recommendations for: Funny\n",
      "\tTo improve, use these tags:\n",
      "\t\thumor, entertainment, children, mind, creativity, psychology, neuroscience, live music, business, identity\n",
      "\tTo improve, avoid these tags:\n",
      "\t\tlanguage, exploration, activism, physics, ecology, life, food, math, green, TED Fellows\n",
      "Recommendations for: Confusing\n",
      "\tTo improve, use these tags:\n",
      "\t\tscience, philosophy, evolution, physics, culture, religion, brain, innovation, entertainment, math\n",
      "\tTo improve, avoid these tags:\n",
      "\t\tuniverse, poverty, media, motivation, war, architecture, neuroscience, Internet, global issues, environment\n",
      "Recommendations for: Inspiring\n",
      "\tTo improve, use these tags:\n",
      "\t\thumor, mental health, life, economics, education, creativity, business, global issues, performance, happiness\n",
      "\tTo improve, avoid these tags:\n",
      "\t\thealth care, global development, sustainability, art, media, architecture, culture, future, medicine, film\n"
     ]
    }
   ],
   "source": [
    "def get_recommendations(target, df):\n",
    "    non_tags = ['views', 'Funny', 'Confusing', 'Inspiring']\n",
    "    best_values = []\n",
    "    worst_values = []\n",
    "    features = get_importance(target, df).index.to_list()\n",
    "    index = -1\n",
    "    while len(best_values) < 10:\n",
    "        index += 1\n",
    "        if (feature:=features[index]) in non_tags:\n",
    "            continue\n",
    "        best_values.append(feature)\n",
    "    index = 0\n",
    "    while len(worst_values) < 10:\n",
    "        index -= 1\n",
    "        if (feature:=features[index]) in non_tags:\n",
    "            continue\n",
    "        worst_values.append(feature)\n",
    "\n",
    "    print(f\"Recommendations for: {target}\")\n",
    "    print(f\"\\tTo improve, use these tags:\\n\\t\\t\" + \", \".join(best_values) )\n",
    "    print(f\"\\tTo improve, avoid these tags:\\n\\t\\t\" + \", \".join(worst_values) )\n",
    "\n",
    "for target in ['views', 'Funny', 'Confusing', 'Inspiring']:\n",
    "    get_recommendations(target, df)"
   ]
  },
  {
   "cell_type": "markdown",
   "metadata": {},
   "source": [
    "**Remember to submit your code on the MOOC platform. You can return this Jupyter notebook (.ipynb) or .py, .R, etc depending on your programming preferences.**"
   ]
  },
  {
   "cell_type": "markdown",
   "metadata": {},
   "source": [
    "## Exercise 2 | Symbol classification (part 2)\n",
    "\n",
    "Note that it is strongly recommended to use Python in this exercise. However, if you can find a suitable AutoML implementation for your favorite language (e.g [here](http://h2o-release.s3.amazonaws.com/h2o/master/3888/docs-website/h2o-docs/automl.html) seems to be one for R) then you are free to use that language as well.\n",
    "\n",
    "Use the preprocessed data from week 3 (you can also produce them using the example solutions of week 3)."
   ]
  },
  {
   "cell_type": "markdown",
   "metadata": {},
   "source": [
    "1. This time train a *random forest classifier* on the data. A random forest is a collection of *decision trees*, which makes it an *ensemble* of classifiers. Each tree uses a random subset of the features to make its prediction. Without tuning any parameters, how is the accuracy?"
   ]
  },
  {
   "cell_type": "code",
   "execution_count": 7,
   "metadata": {},
   "outputs": [
    {
     "data": {
      "text/plain": [
       "((1020, 1024), (1020,))"
      ]
     },
     "execution_count": 7,
     "metadata": {},
     "output_type": "execute_result"
    }
   ],
   "source": [
    "import pandas as pd\n",
    "from PIL import Image\n",
    "import numpy as np\n",
    "from sklearn.ensemble import RandomForestClassifier\n",
    "from sklearn.metrics import classification_report, accuracy_score\n",
    "\n",
    "df = pd.read_csv(\"HASYv2/hasy-data-labels.csv\")\n",
    "df = df[df[\"symbol_id\"] >= 70]\n",
    "df = df[df[\"symbol_id\"] <= 79]\n",
    "\n",
    "images = df[\"path\"]\n",
    "labels = df[\"symbol_id\"].to_numpy()\n",
    "\n",
    "img_arrays = np.array([np.array(Image.open(\"HASYv2\" + \"/\"  + path).convert(\"L\")).reshape(1024) for path in images])\n",
    "img_arrays.shape, labels.shape"
   ]
  },
  {
   "cell_type": "code",
   "execution_count": 8,
   "metadata": {},
   "outputs": [
    {
     "name": "stdout",
     "output_type": "stream",
     "text": [
      "(652, 1024) (652,)\n",
      "(164, 1024) (164,)\n"
     ]
    }
   ],
   "source": [
    "# Use this cell for your code\n",
    "import numpy as np\n",
    "\n",
    "def get_random_indices(seed=13540, total_images=1020, subset_ratio=0.8, train_ratio=0.8):\n",
    "    np.random.seed(seed)\n",
    "    subset_size = int(total_images * subset_ratio)\n",
    "    all_indices = np.random.permutation(total_images)\n",
    "    subset_indices = all_indices[:subset_size]\n",
    "    train_size = int(subset_size * train_ratio)\n",
    "    training_indices = subset_indices[:train_size]\n",
    "    test_indices = subset_indices[train_size:]\n",
    "\n",
    "    return training_indices, test_indices\n",
    "\n",
    "\n",
    "def get_sets(seed = 13540):\n",
    "    tr_i, tst_i = get_random_indices(seed)\n",
    "    return img_arrays[tr_i], labels[tr_i], img_arrays[tst_i], labels[tst_i],\n",
    "\n",
    "trainin_indices, test_indices = get_random_indices()\n",
    "print(img_arrays[trainin_indices].shape, labels[trainin_indices].shape)\n",
    "print(img_arrays[test_indices].shape, labels[test_indices].shape)"
   ]
  },
  {
   "cell_type": "code",
   "execution_count": 9,
   "metadata": {},
   "outputs": [
    {
     "data": {
      "text/plain": [
       "0.8597560975609756"
      ]
     },
     "execution_count": 9,
     "metadata": {},
     "output_type": "execute_result"
    }
   ],
   "source": [
    "def get_model(x, y, trees = None):\n",
    "\n",
    "    if trees:\n",
    "        rf = RandomForestClassifier(\n",
    "            n_estimators=trees,\n",
    "            random_state=42\n",
    "        )\n",
    "    else:\n",
    "        rf = RandomForestClassifier(\n",
    "            random_state=42\n",
    "        )\n",
    "    rf.fit(x, y)\n",
    "    return rf\n",
    "\n",
    "def get_accuracy(model, tx, ty):\n",
    "    y_pred = model.predict(tx)\n",
    "    return accuracy_score(ty, y_pred)\n",
    "\n",
    "def random_forest(trees = None, seed = 13540):\n",
    "    x, y, tx, ty = get_sets(seed)\n",
    "    rf = get_model(x, y, trees)\n",
    "    return get_accuracy(rf, tx, ty)\n",
    "\n",
    "random_forest()"
   ]
  },
  {
   "cell_type": "markdown",
   "metadata": {},
   "source": [
    "2. The amount of trees to use as a part of the random forest is an example of a hyperparameter, because it is a parameter that is set prior to the learning process. In contrast, a parameter is a value in the model that is learned from the data. Train 20 classifiers, with varying amounts of decision trees starting from 10 up until 200, and plot the test accuracy as a function of the amount of classifiers. Does the accuracy keep increasing? Is more better?"
   ]
  },
  {
   "cell_type": "code",
   "execution_count": 10,
   "metadata": {},
   "outputs": [
    {
     "name": "stderr",
     "output_type": "stream",
     "text": [
      "100%|██████████| 20/20 [00:08<00:00,  2.47it/s]\n"
     ]
    },
    {
     "data": {
      "image/png": "[encoded data removed]",
      "text/plain": [
       "<Figure size 800x500 with 1 Axes>"
      ]
     },
     "metadata": {},
     "output_type": "display_data"
    }
   ],
   "source": [
    "import matplotlib.pyplot as plt\n",
    "from tqdm import tqdm\n",
    "\n",
    "def plot_forest_accuracy(trees, accuracies):\n",
    "    plt.figure(figsize=(8, 5))\n",
    "    plt.plot(trees, accuracies, marker='o', linewidth=2)\n",
    "    plt.title(\"Random Forest Accuracy vs Number of Trees\")\n",
    "    plt.xlabel(\"Number of Trees (n_estimators)\")\n",
    "    plt.ylabel(\"Accuracy\")\n",
    "    plt.grid(True, linestyle=\"--\", alpha=0.6)\n",
    "    plt.ylim(0, 1.05)\n",
    "    plt.show()\n",
    "\n",
    "accuracies = []\n",
    "for i in tqdm(range(10, 201, 10)):\n",
    "    x, y, tx, ty = get_sets(10)\n",
    "    rf = get_model(x, y, i)\n",
    "    accuracies.append(get_accuracy(rf, tx, ty))\n",
    "plot_forest_accuracy([i for i in range(10, 201, 10)], accuracies)"
   ]
  },
  {
   "cell_type": "code",
   "execution_count": 11,
   "metadata": {},
   "outputs": [
    {
     "name": "stdout",
     "output_type": "stream",
     "text": [
      "Best accuracy: 0.8536585365853658 for trees 9\n"
     ]
    }
   ],
   "source": [
    "print(f\"Best accuracy: {max(accuracies)} for trees {accuracies.index(max(accuracies))}\")"
   ]
  },
  {
   "cell_type": "markdown",
   "metadata": {},
   "source": [
    "3. If we had picked the amount of decision trees by taking the value with the best test accuracy from the last plot, we would have *overfit* our hyperparameters to the test data. Can you see why it is a mistake to tune hyperparameters of your model by using the test data?\n",
    "\n",
    "\n",
    "### Answer:\n",
    "\n",
    "My guess is that overfitting would improve classification on this specific image set, but when new images were added, the performance would collapse. "
   ]
  },
  {
   "cell_type": "markdown",
   "metadata": {},
   "source": [
    "*You can use this markdown cell to write down your thoughts.*"
   ]
  },
  {
   "cell_type": "markdown",
   "metadata": {},
   "source": [
    "4. Reshuffle and resplit the data so that it is divided in 3 parts: training (80%), validation (10%) and test (10%). Repeatedly train a model of your choosing (e.g random forest) on the training data, and evaluate it’s performance on the validation set, while tuning the hyperparameters so that the accuracy on the validation set increases. Then, finally evaluate the performance of your model on the test data. What can you say in terms of the generalization of your model?"
   ]
  },
  {
   "cell_type": "code",
   "execution_count": 12,
   "metadata": {},
   "outputs": [],
   "source": [
    "import numpy as np\n",
    "\n",
    "def get_random_indices_with_val(seed=13540, total_images=1020, train_ratio=0.8, val_ratio=0.1):\n",
    "    np.random.seed(seed)\n",
    "    indices = np.random.permutation(total_images)\n",
    "\n",
    "    n_train = int(total_images * train_ratio)\n",
    "    n_val = int(total_images * val_ratio)\n",
    "\n",
    "    train_indices = indices[:n_train]\n",
    "    val_indices = indices[n_train:n_train + n_val]\n",
    "    test_indices = indices[n_train + n_val:]\n",
    "\n",
    "    return train_indices, val_indices, test_indices\n",
    "\n",
    "\n",
    "def get_sets_with_val(seed=13540):\n",
    "    tr_i, val_i, tst_i = get_random_indices_with_val(seed)\n",
    "    return (\n",
    "        img_arrays[tr_i], labels[tr_i],\n",
    "        img_arrays[val_i], labels[val_i],\n",
    "        img_arrays[tst_i], labels[tst_i]\n",
    "    )\n"
   ]
  },
  {
   "cell_type": "code",
   "execution_count": 13,
   "metadata": {},
   "outputs": [
    {
     "name": "stderr",
     "output_type": "stream",
     "text": [
      "100%|██████████| 20/20 [00:10<00:00,  1.92it/s]\n"
     ]
    }
   ],
   "source": [
    "import matplotlib.pyplot as plt\n",
    "from tqdm import tqdm\n",
    "\n",
    "val_accuracies = []\n",
    "test_accuracies = []\n",
    "models = [rf]\n",
    "for i in tqdm(range(10, 201, 10)):\n",
    "    x, y, vx, vy, tx, ty = get_sets_with_val(10)\n",
    "    rf = get_model(x, y, i)\n",
    "    val_accuracies.append(get_accuracy(rf, vx, vy))\n",
    "    test_accuracies.append(get_accuracy(rf, tx, ty))\n"
   ]
  },
  {
   "cell_type": "code",
   "execution_count": 14,
   "metadata": {},
   "outputs": [
    {
     "name": "stdout",
     "output_type": "stream",
     "text": [
      "Best validation accuracy: 0.8333333333333334 for trees 200\n",
      "Test accuracy with best validation model: 0.8823529411764706\n",
      "Best Test accuracy: 0.8823529411764706 for trees 190\n"
     ]
    }
   ],
   "source": [
    "print(f\"Best validation accuracy: {max(val_accuracies)} for trees {10 + 10*val_accuracies.index(max(val_accuracies))}\")\n",
    "best = val_accuracies.index(max(val_accuracies))\n",
    "print(f\"Test accuracy with best validation model: {test_accuracies[best]}\")\n",
    "\n",
    "print(f\"Best Test accuracy: {max(test_accuracies)} for trees {10 + 10*test_accuracies.index(max(test_accuracies))}\")"
   ]
  },
  {
   "cell_type": "code",
   "execution_count": 15,
   "metadata": {},
   "outputs": [
    {
     "data": {
      "image/png": "[encoded data removed]",
      "text/plain": [
       "<Figure size 800x500 with 1 Axes>"
      ]
     },
     "metadata": {},
     "output_type": "display_data"
    }
   ],
   "source": [
    "def plot_forest_accuracy_with_val(trees, accuracies, t_accuracies):\n",
    "    plt.figure(figsize=(8, 5))\n",
    "    plt.plot(trees, accuracies, marker='o', linewidth=2, label = \"Validation Accuracy\")\n",
    "    plt.plot(trees, t_accuracies, marker='o', linewidth=2, label = \"Test accuracy\")\n",
    "    plt.title(\"Random Forest Accuracy vs Number of Trees\")\n",
    "    plt.xlabel(\"Number of Trees (n_estimators)\")\n",
    "    plt.ylabel(\"Accuracy\")\n",
    "    plt.grid(True, linestyle=\"--\", alpha=0.6)\n",
    "    plt.ylim(0, 1.05)\n",
    "    plt.legend(title=\"Train/Test Split\", loc=\"lower right\", fontsize=10)\n",
    "    plt.show()\n",
    "plot_forest_accuracy_with_val([i for i in range(10, 201, 10)], val_accuracies, test_accuracies)\n"
   ]
  },
  {
   "cell_type": "markdown",
   "metadata": {},
   "source": [
    "**Remember to submit your code on the MOOC platform. You can return this Jupyter notebook (.ipynb) or .py, .R, etc depending on your programming preferences.**"
   ]
  },
  {
   "cell_type": "markdown",
   "metadata": {},
   "source": [
    "## Exercise 3 | TPOT"
   ]
  },
  {
   "cell_type": "markdown",
   "metadata": {},
   "source": [
    "The process of picking a suitable model, evaluating its performance and tuning the hyperparameters is very time consuming. A new idea in machine learning is the concept of automating this by using an optimization algorithm to find the best model in the space of models and their hyperparameters. Have a look at [TPOT](https://github.com/EpistasisLab/tpot), an automated ML solution that finds a good model and a good set of hyperparameters automatically. Try it on this data, it should outperform simple models like the ones we tried easily. Note that running the algorithm might take a while, depending on the strength of your computer. \n",
    "\n",
    "*Note*: In case it is running for too long, try checking if the parameters you are using when calling TPOT are reasonable, i.e. try reducing number of ‘generations’ or ‘population_size’. TPOT uses cross-validation internally, so we don’t need our own validation set."
   ]
  },
  {
   "cell_type": "code",
   "execution_count": 17,
   "metadata": {},
   "outputs": [],
   "source": [
    "from tpot import TPOTClassifier\n",
    "\n",
    "x, y, tx, ty = get_sets()\n",
    "\n",
    "est = TPOTClassifier(\n",
    "    generations=5,\n",
    "    population_size=20,\n",
    "    n_jobs=-1,\n",
    "    random_state=42\n",
    ")\n",
    "# est.fit(x, y)\n"
   ]
  },
  {
   "cell_type": "markdown",
   "metadata": {},
   "source": [
    "**Remember to submit your code on the MOOC platform. You can return this Jupyter notebook (.ipynb) or .py, .R, etc depending on your programming preferences.**"
   ]
  },
  {
   "cell_type": "markdown",
   "metadata": {},
   "source": [
    "Unfortunately I couldn't get this working. I suspect this is due to my company laptop having some issues. I'm also on a trip and I might not be able get to my personal laptop in time to debug this.\n",
    "\n",
    "Hopefully this is sufficient for the task."
   ]
  }
 ],
 "metadata": {
  "kernelspec": {
   "display_name": "sklearn",
   "language": "python",
   "name": "python3"
  },
  "language_info": {
   "codemirror_mode": {
    "name": "ipython",
    "version": 3
   },
   "file_extension": ".py",
   "mimetype": "text/x-python",
   "name": "python",
   "nbconvert_exporter": "python",
   "pygments_lexer": "ipython3",
   "version": "3.12.2"
  }
 },
 "nbformat": 4,
 "nbformat_minor": 4
}
