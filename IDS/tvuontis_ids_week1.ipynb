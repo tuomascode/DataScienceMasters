{
 "cells": [
  {
   "cell_type": "markdown",
   "metadata": {},
   "source": [
    "# Introduction to Data Science 2025\n",
    "\n",
    "# Week 1"
   ]
  },
  {
   "cell_type": "markdown",
   "metadata": {},
   "source": [
    "## Exercise 1 | Matrix warm-up\n",
    "<span style=\"background-color: #ccfff2\"> *Note: You can find tutorials for NumPy and Pandas under 'Useful tutorials' in the course material.*</span>"
   ]
  },
  {
   "cell_type": "markdown",
   "metadata": {},
   "source": [
    "One of the most useful properties of any scientific programming language (Python with NumPy, R, Julia, etc) is that they allow us to work with matrices efficiently. Let's learn more about these features!\n",
    "\n",
    "### 1.1 Basics\n",
    "\n",
    "1. Let's start by creating two arrays <span style=\"background-color: #ccfff2\"> A</span> and <span style=\"background-color: #ccfff2\"> B</span> which each have the integers <span style=\"background-color: #ccfff2\"> 0, 1, 2, ..., 1e7-1</span>. Use the normal arrays or lists of the programming language you are using, e.g. *list* or *[ ]* or *numpy.array()* in Python."
   ]
  },
  {
   "cell_type": "code",
   "execution_count": 2,
   "metadata": {},
   "outputs": [
    {
     "name": "stdout",
     "output_type": "stream",
     "text": [
      "Tests passed!\n"
     ]
    }
   ],
   "source": [
    "# Use this cell for your code\n",
    "import numpy as np\n",
    "from numpy.testing import assert_array_equal\n",
    "from numpy.linalg import det\n",
    "\n",
    "A = [i for i in range(10**7-1)]\n",
    "B = [i for i in range(10**7-1)]\n",
    "\n",
    "assert A[0] == 0\n",
    "assert A[1] == 1\n",
    "assert A[2] == 2\n",
    "assert A[3] == 3\n",
    "assert A[4] == 4\n",
    "print(\"Tests passed!\")"
   ]
  },
  {
   "cell_type": "markdown",
   "metadata": {},
   "source": [
    "2. Create a function that uses a <span style=\"background-color: #ccfff2\"> for loop</span> or equivalent to return a new array <span style=\"background-color: #ccfff2\"> C</span>, which contains the <span style=\"background-color: #ccfff2\"> element-wise sum of *A* and *B*</span>, e.g. C should contain the integers <span style=\"background-color: #ccfff2\"> 0, 2, 4, etc</span>."
   ]
  },
  {
   "cell_type": "code",
   "execution_count": 3,
   "metadata": {},
   "outputs": [
    {
     "name": "stdout",
     "output_type": "stream",
     "text": [
      "Test passed\n",
      "Test passed\n",
      "Test passed\n",
      "Test passed\n",
      "Test passed\n"
     ]
    }
   ],
   "source": [
    "# Some generic test functions for later use\n",
    "\n",
    "def test_equality(a, b, fn, verbose=True):\n",
    "    if not fn(a, b):\n",
    "        if verbose:\n",
    "            print(\"Test failed, a and b not equal\")\n",
    "        return False\n",
    "    if verbose:\n",
    "        print(\"Test passed\")\n",
    "    return True\n",
    "\n",
    "assert_array = lambda x, y : x == y\n",
    "assert_np_array = lambda x, y : np.all(x == y)\n",
    "\n",
    "assert test_equality([1], [1], assert_array)\n",
    "assert test_equality(np.arange(10), np.arange(10), assert_np_array)\n",
    "assert test_equality(np.arange(100).reshape(10, 10), np.arange(100).reshape(10, 10), assert_np_array)\n",
    "assert not test_equality(np.arange(1, 11), np.arange(10), assert_np_array, False)\n",
    "print(\"Test passed\")\n",
    "\n",
    "\n",
    "\n",
    "def add_with_for(a, b):\n",
    "    assert len(a) == len(b)\n",
    "    return [a[i] + b[i] for i in range(len(a))]\n",
    "\n",
    "assert test_equality(A, B, assert_array)\n"
   ]
  },
  {
   "cell_type": "markdown",
   "metadata": {},
   "source": [
    "3. Next, let's create another function that uses NumPy (or equivalent) to do the same. To try it out, allocate two arrays (e.g. using <span style=\"background-color: #ccfff2\"> np.array</span> in NumPy) and add the arrays together using your function. Don't use loops, instead, find out how to add the two arrays directly. What do you notice in comparison to the previous function?"
   ]
  },
  {
   "cell_type": "code",
   "execution_count": 4,
   "metadata": {},
   "outputs": [
    {
     "name": "stdout",
     "output_type": "stream",
     "text": [
      "Test passed\n"
     ]
    }
   ],
   "source": [
    "A_1 = np.arange(10**7-1)\n",
    "B_1 = np.arange(10**7-1)\n",
    "\n",
    "def add_without_for(a, b):\n",
    "    return a + b\n",
    "\n",
    "C = add_without_for(A_1, B_1)\n",
    "assert test_equality(A_1, B_1, assert_np_array)"
   ]
  },
  {
   "cell_type": "markdown",
   "metadata": {},
   "source": [
    "### 1.2 Array manipulation"
   ]
  },
  {
   "cell_type": "markdown",
   "metadata": {},
   "source": [
    "<span style=\"background-color: #ccfff2\"> *Note: for the following exercises, only use NumPy or equivalent functions. Don't use any loops.* </span>\n",
    "1. Create the following array:\n",
    "\n",
    "*[hint: <span style=\"background-color: #ccfff2\"> np.reshape</span>]*"
   ]
  },
  {
   "cell_type": "code",
   "execution_count": 5,
   "metadata": {},
   "outputs": [],
   "source": [
    "# array([[ 0,  1,  2,  3,  4,  5,  6,  7,  8,  9],\n",
    "#        [10, 11, 12, 13, 14, 15, 16, 17, 18, 19],\n",
    "#        [20, 21, 22, 23, 24, 25, 26, 27, 28, 29],\n",
    "#        [30, 31, 32, 33, 34, 35, 36, 37, 38, 39],\n",
    "#        [40, 41, 42, 43, 44, 45, 46, 47, 48, 49],\n",
    "#        [50, 51, 52, 53, 54, 55, 56, 57, 58, 59],\n",
    "#        [60, 61, 62, 63, 64, 65, 66, 67, 68, 69],\n",
    "#        [70, 71, 72, 73, 74, 75, 76, 77, 78, 79],\n",
    "#        [80, 81, 82, 83, 84, 85, 86, 87, 88, 89],\n",
    "#        [90, 91, 92, 93, 94, 95, 96, 97, 98, 99]])"
   ]
  },
  {
   "cell_type": "code",
   "execution_count": 6,
   "metadata": {},
   "outputs": [
    {
     "name": "stdout",
     "output_type": "stream",
     "text": [
      "Test passed\n"
     ]
    }
   ],
   "source": [
    "# Using above array for testing\n",
    "test_array = np.array([ [ 0,  1,  2,  3,  4,  5,  6,  7,  8,  9],\n",
    "                        [10, 11, 12, 13, 14, 15, 16, 17, 18, 19],\n",
    "                        [20, 21, 22, 23, 24, 25, 26, 27, 28, 29],\n",
    "                        [30, 31, 32, 33, 34, 35, 36, 37, 38, 39],\n",
    "                        [40, 41, 42, 43, 44, 45, 46, 47, 48, 49],\n",
    "                        [50, 51, 52, 53, 54, 55, 56, 57, 58, 59],\n",
    "                        [60, 61, 62, 63, 64, 65, 66, 67, 68, 69],\n",
    "                        [70, 71, 72, 73, 74, 75, 76, 77, 78, 79],\n",
    "                        [80, 81, 82, 83, 84, 85, 86, 87, 88, 89],\n",
    "                        [90, 91, 92, 93, 94, 95, 96, 97, 98, 99]])\n",
    "\n",
    "\n",
    "table = np.arange(100).reshape(10,10)\n",
    "\n",
    "# tests\n",
    "assert test_equality(table, test_array, assert_np_array)\n"
   ]
  },
  {
   "cell_type": "markdown",
   "metadata": {},
   "source": [
    "2. Create the following array:"
   ]
  },
  {
   "cell_type": "code",
   "execution_count": 7,
   "metadata": {},
   "outputs": [],
   "source": [
    "# array([[0., 1., 0., 1., 0., 1., 0., 1., 0., 1.],\n",
    "#        [0., 1., 0., 1., 0., 1., 0., 1., 0., 1.],\n",
    "#        [0., 1., 0., 1., 0., 1., 0., 1., 0., 1.],\n",
    "#        [0., 1., 0., 1., 0., 1., 0., 1., 0., 1.],\n",
    "#        [0., 1., 0., 1., 0., 1., 0., 1., 0., 1.],\n",
    "#        [0., 1., 0., 1., 0., 1., 0., 1., 0., 1.],\n",
    "#        [0., 1., 0., 1., 0., 1., 0., 1., 0., 1.],\n",
    "#        [0., 1., 0., 1., 0., 1., 0., 1., 0., 1.],\n",
    "#        [0., 1., 0., 1., 0., 1., 0., 1., 0., 1.],\n",
    "#        [0., 1., 0., 1., 0., 1., 0., 1., 0., 1.]])"
   ]
  },
  {
   "cell_type": "code",
   "execution_count": 8,
   "metadata": {},
   "outputs": [
    {
     "name": "stdout",
     "output_type": "stream",
     "text": [
      "Test passed\n"
     ]
    }
   ],
   "source": [
    "# Use this cell for your \n",
    "\n",
    "test_array = np. array([[0., 1., 0., 1., 0., 1., 0., 1., 0., 1.],\n",
    "       [0., 1., 0., 1., 0., 1., 0., 1., 0., 1.],\n",
    "       [0., 1., 0., 1., 0., 1., 0., 1., 0., 1.],\n",
    "       [0., 1., 0., 1., 0., 1., 0., 1., 0., 1.],\n",
    "       [0., 1., 0., 1., 0., 1., 0., 1., 0., 1.],\n",
    "       [0., 1., 0., 1., 0., 1., 0., 1., 0., 1.],\n",
    "       [0., 1., 0., 1., 0., 1., 0., 1., 0., 1.],\n",
    "       [0., 1., 0., 1., 0., 1., 0., 1., 0., 1.],\n",
    "       [0., 1., 0., 1., 0., 1., 0., 1., 0., 1.],\n",
    "       [0., 1., 0., 1., 0., 1., 0., 1., 0., 1.]])\n",
    "\n",
    "table = np.tile(np.array([0, 1]), (10, 5))\n",
    "assert test_equality(table, test_array, assert_np_array)"
   ]
  },
  {
   "cell_type": "markdown",
   "metadata": {},
   "source": [
    "3. Create the following array (D):"
   ]
  },
  {
   "cell_type": "code",
   "execution_count": 9,
   "metadata": {},
   "outputs": [],
   "source": [
    "# array([[0., 1., 1., 1., 1., 1., 1., 1., 1., 1.],\n",
    "#        [1., 0., 1., 1., 1., 1., 1., 1., 1., 1.],\n",
    "#        [1., 1., 0., 1., 1., 1., 1., 1., 1., 1.],\n",
    "#        [1., 1., 1., 0., 1., 1., 1., 1., 1., 1.],\n",
    "#        [1., 1., 1., 1., 0., 1., 1., 1., 1., 1.],\n",
    "#        [1., 1., 1., 1., 1., 0., 1., 1., 1., 1.],\n",
    "#        [1., 1., 1., 1., 1., 1., 0., 1., 1., 1.],\n",
    "#        [1., 1., 1., 1., 1., 1., 1., 0., 1., 1.],\n",
    "#        [1., 1., 1., 1., 1., 1., 1., 1., 0., 1.],\n",
    "#        [1., 1., 1., 1., 1., 1., 1., 1., 1., 0.]])"
   ]
  },
  {
   "cell_type": "code",
   "execution_count": 10,
   "metadata": {},
   "outputs": [
    {
     "name": "stdout",
     "output_type": "stream",
     "text": [
      "Test passed\n"
     ]
    }
   ],
   "source": [
    "# Use this cell for your code\n",
    "test_array = np.array([[0., 1., 1., 1., 1., 1., 1., 1., 1., 1.],\n",
    "       [1., 0., 1., 1., 1., 1., 1., 1., 1., 1.],\n",
    "       [1., 1., 0., 1., 1., 1., 1., 1., 1., 1.],\n",
    "       [1., 1., 1., 0., 1., 1., 1., 1., 1., 1.],\n",
    "       [1., 1., 1., 1., 0., 1., 1., 1., 1., 1.],\n",
    "       [1., 1., 1., 1., 1., 0., 1., 1., 1., 1.],\n",
    "       [1., 1., 1., 1., 1., 1., 0., 1., 1., 1.],\n",
    "       [1., 1., 1., 1., 1., 1., 1., 0., 1., 1.],\n",
    "       [1., 1., 1., 1., 1., 1., 1., 1., 0., 1.],\n",
    "       [1., 1., 1., 1., 1., 1., 1., 1., 1., 0.]])\n",
    "\n",
    "D = np.ones(100).reshape(10,10) - np.identity(10)\n",
    "assert test_equality(D, test_array, assert_np_array)"
   ]
  },
  {
   "cell_type": "markdown",
   "metadata": {},
   "source": [
    "4. Create the following array (E):"
   ]
  },
  {
   "cell_type": "code",
   "execution_count": 11,
   "metadata": {},
   "outputs": [],
   "source": [
    "# array([[1., 1., 1., 1., 1., 1., 1., 1., 1., 0.],\n",
    "#        [1., 1., 1., 1., 1., 1., 1., 1., 0., 1.],\n",
    "#        [1., 1., 1., 1., 1., 1., 1., 0., 1., 1.],\n",
    "#        [1., 1., 1., 1., 1., 1., 0., 1., 1., 1.],\n",
    "#        [1., 1., 1., 1., 1., 0., 1., 1., 1., 1.],\n",
    "#        [1., 1., 1., 1., 0., 1., 1., 1., 1., 1.],\n",
    "#        [1., 1., 1., 0., 1., 1., 1., 1., 1., 1.],\n",
    "#        [1., 1., 0., 1., 1., 1., 1., 1., 1., 1.],\n",
    "#        [1., 0., 1., 1., 1., 1., 1., 1., 1., 1.],\n",
    "#        [0., 1., 1., 1., 1., 1., 1., 1., 1., 1.]])"
   ]
  },
  {
   "cell_type": "code",
   "execution_count": 12,
   "metadata": {},
   "outputs": [
    {
     "name": "stdout",
     "output_type": "stream",
     "text": [
      "Test passed\n"
     ]
    }
   ],
   "source": [
    "# Use this cell for your code\n",
    "test_array = np.array([[1., 1., 1., 1., 1., 1., 1., 1., 1., 0.],\n",
    "       [1., 1., 1., 1., 1., 1., 1., 1., 0., 1.],\n",
    "       [1., 1., 1., 1., 1., 1., 1., 0., 1., 1.],\n",
    "       [1., 1., 1., 1., 1., 1., 0., 1., 1., 1.],\n",
    "       [1., 1., 1., 1., 1., 0., 1., 1., 1., 1.],\n",
    "       [1., 1., 1., 1., 0., 1., 1., 1., 1., 1.],\n",
    "       [1., 1., 1., 0., 1., 1., 1., 1., 1., 1.],\n",
    "       [1., 1., 0., 1., 1., 1., 1., 1., 1., 1.],\n",
    "       [1., 0., 1., 1., 1., 1., 1., 1., 1., 1.],\n",
    "       [0., 1., 1., 1., 1., 1., 1., 1., 1., 1.]])\n",
    "\n",
    "E = np.ones(100).reshape(10,10) - np.fliplr(np.identity(10))\n",
    "assert test_equality(E, test_array, assert_np_array)"
   ]
  },
  {
   "cell_type": "markdown",
   "metadata": {},
   "source": [
    "5. Call the last two matrices <span style=\"background-color: #ccfff2\">D</span> and <span style=\"background-color: #ccfff2\">E</span>, respectively. Show that the determinant of their product (matrix multiplication) is the same as the product of their determinants. That is calculate both <span style=\"background-color: #ccfff2\">det(DE)</span> and <span style=\"background-color: #ccfff2\">det(D) * det(E)</span>, and show that they are the same. Is it a coincidence? (I think not) The product of the determinants (or the determinant of the product) should be -81."
   ]
  },
  {
   "cell_type": "code",
   "execution_count": 13,
   "metadata": {},
   "outputs": [
    {
     "name": "stdout",
     "output_type": "stream",
     "text": [
      "-81.0\n",
      "-81.0000000000001\n"
     ]
    }
   ],
   "source": [
    "print(det(E) * det(D))\n",
    "print(det(D @ E))\n",
    "assert det(E) * det(D) - det(E @ D) < 1"
   ]
  },
  {
   "cell_type": "markdown",
   "metadata": {},
   "source": [
    "-- *Use this markdown cell for your written answer* --"
   ]
  },
  {
   "cell_type": "markdown",
   "metadata": {},
   "source": [
    "### 1.3 Slicing\n",
    "\n",
    "Array slicing is a powerful way to extract data from an array. Let's practice array slicing with the following exercises!\n",
    "\n",
    "1. Load the [California housing dataset](https://scikit-learn.org/stable/modules/generated/sklearn.datasets.fetch_california_housing.html). The data should be a matrix of shape <span style=\"background-color: #ccfff2\">(20640, 8)</span>, that is 20640 rows and 8 columns. Use the <span style=\"background-color: #ccfff2\">.shape</span> attribute of NumPy arrays to verify this. Here's a [description of the fields](https://scikit-learn.org/stable/datasets/real_world.html#california-housing-dataset)."
   ]
  },
  {
   "cell_type": "code",
   "execution_count": 14,
   "metadata": {},
   "outputs": [
    {
     "name": "stdout",
     "output_type": "stream",
     "text": [
      "dict_keys(['data', 'target', 'frame', 'target_names', 'feature_names', 'DESCR'])\n",
      "['MedInc', 'HouseAge', 'AveRooms', 'AveBedrms', 'Population', 'AveOccup', 'Latitude', 'Longitude']\n",
      "(20640, 8)\n"
     ]
    }
   ],
   "source": [
    "# Use this cell for your code\n",
    "from sklearn.datasets import fetch_california_housing\n",
    "\n",
    "housing_data = fetch_california_housing()\n",
    "data = housing_data.data\n",
    "print(housing_data.keys())\n",
    "print(housing_data.feature_names)\n",
    "print(data.shape)\n",
    "assert data.shape == (20640, 8)\n"
   ]
  },
  {
   "cell_type": "markdown",
   "metadata": {},
   "source": [
    "2. Select rows where the average number of bedrooms <span style=\"background-color: #ccfff2\">(AveBedrms)</span> is higher than 2. The first few row indices should be <span style=\"background-color: #ccfff2\">710,  1023,  1024, ...</span> (zero-indexed). Count these houses - how many rows are selected? *[hint: <span style=\"background-color: #ccfff2\">np.where</span>]*"
   ]
  },
  {
   "cell_type": "code",
   "execution_count": 15,
   "metadata": {},
   "outputs": [
    {
     "name": "stdout",
     "output_type": "stream",
     "text": [
      "First three indices:\n",
      "\t[ 710 1023 1024]\n",
      "Number of rows with AveBedrms is higher than two:\n",
      "\t235\n"
     ]
    }
   ],
   "source": [
    "houseage_indices = np.where(data[:,3] > 2)\n",
    "houseage_selected_rows = data[houseage_indices]\n",
    "\n",
    "print(f\"First three indices:\\n\\t{houseage_indices[0][:3]}\")\n",
    "print(f\"Number of rows with AveBedrms is higher than two:\\n\\t{houseage_selected_rows.shape[0]}\")"
   ]
  },
  {
   "cell_type": "markdown",
   "metadata": {},
   "source": [
    "3. Select the rows where the median house age (i.e. median in each block group) <span style=\"background-color: #ccfff2\">(HouseAge)</span> is between 1 and 3 years (inclusive). There should be **124** of these."
   ]
  },
  {
   "cell_type": "code",
   "execution_count": 16,
   "metadata": {},
   "outputs": [
    {
     "name": "stdout",
     "output_type": "stream",
     "text": [
      "First three indices:\n",
      "\t[ 59 854 871]\n",
      "Number of rows with median house age is between 1 and 3 years:\n",
      "\t124\n"
     ]
    }
   ],
   "source": [
    "# Use this cell for your code\n",
    "\n",
    "houseage_indices = np.where((data[:, 1] >= 1) & (data[:, 1] <= 3))\n",
    "houseage_selected_rows = data[houseage_indices]\n",
    "\n",
    "print(f\"First three indices:\\n\\t{houseage_indices[0][:3]}\")\n",
    "print(f\"Number of rows with median house age is between 1 and 3 years:\\n\\t{houseage_selected_rows.shape[0]}\")"
   ]
  },
  {
   "cell_type": "markdown",
   "metadata": {},
   "source": [
    "4. Find the mean of the block group population <span style=\"background-color: #ccfff2\">(Population)</span> for homes whose median value is more than 25000 USD (the target variable). It should be around **1425.68**."
   ]
  },
  {
   "cell_type": "code",
   "execution_count": 17,
   "metadata": {},
   "outputs": [
    {
     "name": "stdout",
     "output_type": "stream",
     "text": [
      "1425.6833737275813\n"
     ]
    }
   ],
   "source": [
    "high_house_value_indices = np.where(housing_data.target > 25000/100_000)\n",
    "\n",
    "high_house_value_population_column = data[:,4][high_house_value_indices]\n",
    "\n",
    "avg_income = np.average(high_house_value_population_column)\n",
    "\n",
    "print(avg_income)\n",
    "\n",
    "assert abs(avg_income - avg_income) < 0.1"
   ]
  },
  {
   "cell_type": "markdown",
   "metadata": {},
   "source": [
    "## Exercise 2 | Working with text data\n",
    "\n",
    "Next, let's look into some text data. We will be looking into Amazon reviews, and the necessary steps to transform a raw dataset into a format more suitable for prediction tasks.\n",
    "\n",
    "1. Download the automotive 5-core dataset from [here](https://jmcauley.ucsd.edu/data/amazon_v2/categoryFilesSmall/Automotive_5.json.gz). Next, you can extract the data in <span style=\"background-color: #ccfff2\">JSON</span> format. You can also download one of the bigger ones, if you are feeling ambitious. Open the JSON file. Access the <span style=\"background-color: #ccfff2\">reviewText</span> field, which contains the unstructured review text written by the user.\n",
    "\n",
    "For instance, the first review reads as follows: \n",
    "\n",
    "*'After I wrote the below review, the manufacturer contacted me and explained how to use this.  Instead of the (current) picture on Amazon where the phone is placed vertically, you actually use the stand with the phone placed horizontally. [...]'*"
   ]
  },
  {
   "cell_type": "code",
   "execution_count": 18,
   "metadata": {},
   "outputs": [
    {
     "name": "stdout",
     "output_type": "stream",
     "text": [
      "attempting to read data from disc\n",
      "After I wrote the below review, the manufacturer contacted me and explained how to use this.  Instead of the (current) picture on Amazon where the phone is placed vertically, you actually use the stand with the phone placed horizontally.  Then the charge / sync cable goes through the hole and you can charge from the side.  When used in landscape position this stand does make more sense so I'm upgrading this review from 2 stars to 4 stars (which I rarely do, but in this case user error) with a star off for lack of documentation.  Manufacturer has said he will include directions and I would also encourage him to update the photos on Amazon with more examples of how this can be used.  The wood quality is indeed good and it's a sturdy little stand.  I'm trying to think of when I'd actually use this stand... perhaps for Facetime chats.  I also think it would be useful for someone in an open office environment if they want to keep their phone on their desk and see alerts / notifications easily.  Hope this updated review helps.\n",
      "\n",
      "ORIGINAL REVIEW:\n",
      "I am throwing this stand in the garbage.  While it's crafted of a nice wood, it is not functional as near as I can tell.  It does not come with instructions and as you can see from the product description, even that is confusing since the English is poorly translated Chinese.  The iPhone sits on the stand just fine, but when it's on the stand, there is no way the plug on the bottom  will plug in -- the stand blocks it.  If you turn the iPhone over, the plug is on the top, which just looks strange.  And I'm not at all sure what the hole in the back of the stand is supposed to do.  Also included are four plastic feet, again no instructions, so I affixed them to the bottom of the stand and it began to wobble.\n",
      "\n",
      "Perhaps someone else will figure out how to work this thing and post a review, but as far as I'm concerned, the out of the box experience was terrible.\n",
      "\n",
      "Sorry, I cannot recommend.\n",
      "\n",
      "Sample provided in exchange for an honest review.\n"
     ]
    }
   ],
   "source": [
    "import json\n",
    "import requests\n",
    "import gzip\n",
    "import os\n",
    "\n",
    "def extract(gz):\n",
    "    print(\"Extracting file content\")\n",
    "    with gzip.open(gz, \"rt\", encoding=\"utf-8\") as f:\n",
    "        return f.read()\n",
    "\n",
    "def save_data(data, path):\n",
    "    with open(path, \"w\") as f:\n",
    "        f.write(data)\n",
    "\n",
    "def open_data(path, strip=False):\n",
    "    with open(path, \"r\") as f:\n",
    "        if strip:\n",
    "            return [i.strip() for i in f.readlines()]\n",
    "        return f.readlines()\n",
    "    \n",
    "def stream_dl_content(url, local_gz):\n",
    "    with requests.get(url, stream=True, verify=False) as response:\n",
    "        response.raise_for_status()\n",
    "        print(\"got valid response\")\n",
    "        with open(local_gz, \"wb\") as f:\n",
    "            for chunk in response.iter_content(chunk_size=8192):\n",
    "                if chunk:\n",
    "                    f.write(chunk)\n",
    "        print(\"file downloaded\")\n",
    "\n",
    "def get_json(file_line):\n",
    "    return json.loads(file_line)\n",
    "\n",
    "def download_automotive_dataset():\n",
    "    file_path = \"Automotive_5.json\"\n",
    "    url = \"https://jmcauley.ucsd.edu/data/amazon_v2/categoryFilesSmall/Automotive_5.json.gz\"\n",
    "    local_gz = \"Automotive_5.json.gz\"\n",
    "    try:\n",
    "        print(f\"attempting to read data from disc\")\n",
    "        return open_data(file_path)\n",
    "    except FileNotFoundError:\n",
    "        print(\"json file not found\")\n",
    "        if os.path.exists(local_gz):\n",
    "            print(local_gz, \"file found\")\n",
    "            data = extract(local_gz)\n",
    "            print(\"data extracted, saving for later use\")\n",
    "            save_data(data, file_path)\n",
    "        else:\n",
    "            print(local_gz, \"file doesn't exist, downloading\")\n",
    "            stream_dl_content(url, local_gz)\n",
    "            data = extract(local_gz)\n",
    "            save_data(data, file_path)\n",
    "        print(\"returning data\")\n",
    "        return open_data(file_path)\n",
    "\n",
    "automotive_data = download_automotive_dataset()\n",
    "first_entry = get_json(automotive_data[0])\n",
    "print(first_entry[\"reviewText\"])\n"
   ]
  },
  {
   "cell_type": "markdown",
   "metadata": {},
   "source": [
    "2. Next, let's follow some steps to normalize the text data.\n",
    "\n",
    "When dealing with natural language, it is important to notice that while, for example, the words \"Copper\" and \"copper\" are represented by two different strings, they have the same meaning. When applying statistical methods on this data, it is useful to ensure that words with the same meaning are represented by the same string.\n",
    "\n",
    "* <span style=\"background-color: #ccfff2\">Downcasing</span>: Let's first downcase the contents of the <span style=\"background-color: #ccfff2\">reviewText</span> field.\n",
    "\n",
    "Now the first review should be:\n",
    "\n",
    "*'after i wrote the below review, the manufacturer contacted me and explained how to use this.  instead of the (current) picture on amazon where the phone is placed vertically, you actually use the stand with the phone placed horizontally.'*"
   ]
  },
  {
   "cell_type": "code",
   "execution_count": 19,
   "metadata": {},
   "outputs": [
    {
     "name": "stdout",
     "output_type": "stream",
     "text": [
      "after i wrote the below review, the manufacturer contacted me and explained how to use this.  instead of the (current) picture on amazon where the phone is placed vertically, you actually use the stand with the phone placed horizontally.  then the charge / sync cable goes through the hole and you can charge from the side.  when used in landscape position this stand does make more sense so i'm upgrading this review from 2 stars to 4 stars (which i rarely do, but in this case user error) with a star off for lack of documentation.  manufacturer has said he will include directions and i would also encourage him to update the photos on amazon with more examples of how this can be used.  the wood quality is indeed good and it's a sturdy little stand.  i'm trying to think of when i'd actually use this stand... perhaps for facetime chats.  i also think it would be useful for someone in an open office environment if they want to keep their phone on their desk and see alerts / notifications easily.  hope this updated review helps.\n",
      "\n",
      "original review:\n",
      "i am throwing this stand in the garbage.  while it's crafted of a nice wood, it is not functional as near as i can tell.  it does not come with instructions and as you can see from the product description, even that is confusing since the english is poorly translated chinese.  the iphone sits on the stand just fine, but when it's on the stand, there is no way the plug on the bottom  will plug in -- the stand blocks it.  if you turn the iphone over, the plug is on the top, which just looks strange.  and i'm not at all sure what the hole in the back of the stand is supposed to do.  also included are four plastic feet, again no instructions, so i affixed them to the bottom of the stand and it began to wobble.\n",
      "\n",
      "perhaps someone else will figure out how to work this thing and post a review, but as far as i'm concerned, the out of the box experience was terrible.\n",
      "\n",
      "sorry, i cannot recommend.\n",
      "\n",
      "sample provided in exchange for an honest review.\n"
     ]
    }
   ],
   "source": [
    "def downcase_string(original):\n",
    "    return original.lower()\n",
    "\n",
    "downcased_first_review = downcase_string(first_entry[\"reviewText\"])\n",
    "print(downcased_first_review)"
   ]
  },
  {
   "cell_type": "markdown",
   "metadata": {},
   "source": [
    "3. Let's continue with punctuation and stop word removal. Stop words are words like \"and\", \"the\", etc. They are usually very common words that have little to do with the actual content matter. There's plenty openly available lists of stop words for almost any (natural) language.\n",
    "\n",
    "* <span style=\"background-color: #ccfff2\">Punctuation and stop-word removal</span>: Let's now remove all punctuation, as well as the stop words. You can find a stop word list for English, e.g. [here](https://gist.github.com/xldrkp/4a3b1a33f10d37bedbe0068f2b4482e8#file-stopwords-en-txt).*(use the link to download a txt of english stopwords)* Save the stopwords in the file as \"stopwords-en.txt\".\n",
    "\n",
    "First review at this point reads as: \n",
    "\n",
    "*'wrote review manufacturer contacted explained current picture amazon phone vertically stand phone horizontally'*"
   ]
  },
  {
   "cell_type": "code",
   "execution_count": 20,
   "metadata": {},
   "outputs": [],
   "source": [
    "stopwords = ['a', 'about', 'above', 'across', 'after', 'afterwards', 'again', 'against', 'all', 'almost', 'alone', 'along', 'already', 'also', 'although', 'always', 'am', 'among', 'amongst', 'amoungst', 'amount', 'an', 'and', 'another', 'any', 'anyhow', 'anyone', 'anything', 'anyway', 'anywhere', 'are', 'around', 'as', 'at', 'back', 'be', 'became', 'because', 'become', 'becomes', 'becoming', 'been', 'before', 'beforehand', 'behind', 'being', 'below', 'beside', 'besides', 'between', 'beyond', 'bill', 'both', 'bottom', 'but', 'by', 'call', 'can', 'cannot', 'cant', 'co', 'computer', 'con', 'could', 'couldnt', 'cry', 'de', 'describe', 'detail', 'do', 'done', 'down', 'due', 'during', 'each', 'eg', 'eight', 'either', 'eleven', 'else', 'elsewhere', 'empty', 'enough', 'etc', 'even', 'ever', 'every', 'everyone', 'everything', 'everywhere', 'except', 'few', 'fifteen', 'fify', 'fill', 'find', 'fire', 'first', 'five', 'for', 'former', 'formerly', 'forty', 'found', 'four', 'from', 'front', 'full', 'further', 'get', 'give', 'go', 'had', 'has', 'hasnt', 'have', 'he', 'hence', 'her', 'here', 'hereafter', 'hereby', 'herein', 'hereupon', 'hers', 'herse\"', 'him', 'himse\"', 'his', 'how', 'however', 'hundred', 'i', 'ie', 'if', 'in', 'inc', 'indeed', 'interest', 'into', 'is', 'it', 'its', 'itse\"', 'keep', 'last', 'latter', 'latterly', 'least', 'less', 'ltd', 'made', 'many', 'may', 'me', 'meanwhile', 'might', 'mill', 'mine', 'more', 'moreover', 'most', 'mostly', 'move', 'much', 'must', 'my', 'myse\"', 'name', 'namely', 'neither', 'never', 'nevertheless', 'next', 'nine', 'no', 'nobody', 'none', 'noone', 'nor', 'not', 'nothing', 'now', 'nowhere', 'of', 'off', 'often', 'on', 'once', 'one', 'only', 'onto', 'or', 'other', 'others', 'otherwise', 'our', 'ours', 'ourselves', 'out', 'over', 'own', 'part', 'per', 'perhaps', 'please', 'put', 'rather', 're', 'same', 'see', 'seem', 'seemed', 'seeming', 'seems', 'serious', 'several', 'she', 'should', 'show', 'side', 'since', 'sincere', 'six', 'sixty', 'so', 'some', 'somehow', 'someone', 'something', 'sometime', 'sometimes', 'somewhere', 'still', 'such', 'system', 'take', 'ten', 'than', 'that', 'the', 'their', 'them', 'themselves', 'then', 'thence', 'there', 'thereafter', 'thereby', 'therefore', 'therein', 'thereupon', 'these', 'they', 'thick', 'thin', 'third', 'this', 'those', 'though', 'three', 'through', 'throughout', 'thru', 'thus', 'to', 'together', 'too', 'top', 'toward', 'towards', 'twelve', 'twenty', 'two', 'un', 'under', 'until', 'up', 'upon', 'us', 'very', 'via', 'was', 'we', 'well', 'were', 'what', 'whatever', 'when', 'whence', 'whenever', 'where', 'whereafter', 'whereas', 'whereby', 'wherein', 'whereupon', 'wherever', 'whether', 'which', 'while', 'whither', 'who', 'whoever', 'whole', 'whom', 'whose', 'why', 'will', 'with', 'within', 'without', 'would', 'yet', 'you', 'your', 'yours', 'yourself', 'yourselves']"
   ]
  },
  {
   "cell_type": "code",
   "execution_count": 21,
   "metadata": {},
   "outputs": [
    {
     "name": "stdout",
     "output_type": "stream",
     "text": [
      "wrote review manufacturer contacted explained use instead current picture amazon phone placed vertically actually use stand phone placed horizontally charge sync cable goes hole charge used landscape position stand does make sense im upgrading review 2 stars 4 stars rarely case user error star lack documentation manufacturer said include directions encourage update photos amazon examples used wood quality good sturdy little stand im trying think id actually use stand facetime chats think useful open office environment want phone desk alerts notifications easily hope updated review helps original review throwing stand garbage crafted nice wood functional near tell does come instructions product description confusing english poorly translated chinese iphone sits stand just fine stand way plug plug stand blocks turn iphone plug just looks strange im sure hole stand supposed included plastic feet instructions affixed stand began wobble figure work thing post review far im concerned box experience terrible sorry recommend sample provided exchange honest review\n"
     ]
    }
   ],
   "source": [
    "# Use this cell for your code\n",
    "import re\n",
    "\n",
    "def clean_punctuation_stopwords(review_string):\n",
    "    cleaned_first_review = review_string\n",
    "    punctuation = [ # list provided by chatGPT-4o\n",
    "        \".\", \",\", \":\", \";\", \"!\", \"?\", \"-\", \"—\", \"(\", \")\", \"[\", \"]\", \"{\", \"}\",\n",
    "        \"'\", '\"', \"…\", \"–\", \"/\", \"\\\\\", \"@\", \"#\", \"$\", \"%\", \"^\", \"&\", \"*\", \"_\",\n",
    "        \"=\", \"+\", \"<\", \">\", \"`\", \"~\", \"|\"\n",
    "    ]\n",
    "    for punct in punctuation:\n",
    "        cleaned_first_review = cleaned_first_review.replace(punct, \"\")\n",
    "    pattern = \"|\".join(map(re.escape, [\" \", \"\\n\"]))\n",
    "    cleaned_first_review = re.split(pattern, cleaned_first_review)\n",
    "    return \" \".join([i for i in cleaned_first_review if i not in stopwords and i != \"\"])\n",
    "cleaned_first_review = clean_punctuation_stopwords(downcased_first_review)\n",
    "print(cleaned_first_review)\n",
    "\n"
   ]
  },
  {
   "cell_type": "markdown",
   "metadata": {},
   "source": [
    "4. Let's continue with stemming. For example, while the words \"swims\" and \"swim\" are different strings, they both refer to swimming. [Stemming](https://en.wikipedia.org/wiki/Stemming) refers to the process of mapping words from their inflected form to their base form, for instance: swims -> swim.\n",
    "\n",
    "* <span style=\"background-color: #ccfff2\">Stemming</span>: Apply a stemmer on the paragraphs, so that inflected forms are mapped to the base form. For example, for Python the popular natural language toolkit [nltk](http://www.nltk.org/howto/stem.html) has an easy to use stemmer. In case you are using R, you can try the [Snowball stemmer](https://www.rdocumentation.org/packages/corpus/versions/0.10.2/topics/stem_snowball). You can find out how to install nltk from [here](https://www.nltk.org/install.html). It will take a while to run! So, grab a coffee and wait :D\n",
    "\n",
    "Finally, after stemming: \n",
    "\n",
    "*'wrote review manufactur contact explain current pictur amazon phone vertic stand phone horizont'*"
   ]
  },
  {
   "cell_type": "code",
   "execution_count": 22,
   "metadata": {},
   "outputs": [
    {
     "name": "stdout",
     "output_type": "stream",
     "text": [
      "wrote review manufacturer contacted explained use instead current picture amazon phone placed vertically actually use stand phone placed horizontally charge sync cable go hole charge used landscape position stand doe make sense im upgrading review 2 star 4 star rarely case user error star lack documentation manufacturer said include direction encourage update photo amazon example used wood quality good sturdy little stand im trying think id actually use stand facetime chat think useful open office environment want phone desk alert notification easily hope updated review help original review throwing stand garbage crafted nice wood functional near tell doe come instruction product description confusing english poorly translated chinese iphone sits stand just fine stand way plug plug stand block turn iphone plug just look strange im sure hole stand supposed included plastic foot instruction affixed stand began wobble figure work thing post review far im concerned box experience terrible sorry recommend sample provided exchange honest review\n"
     ]
    }
   ],
   "source": [
    "# Use this cell for your code\n",
    "\n",
    "from nltk.stem import WordNetLemmatizer\n",
    "\n",
    "def stem_string(original_string):\n",
    "    lemmatizer  = WordNetLemmatizer()\n",
    "    words = original_string.split(\" \")\n",
    "    stemmed_words = [lemmatizer.lemmatize(word) for word in words]\n",
    "    return \" \".join(stemmed_words)\n",
    "\n",
    "stemmed_and_cleaned_string = stem_string(cleaned_first_review)\n",
    "print(stemmed_and_cleaned_string)"
   ]
  },
  {
   "cell_type": "markdown",
   "metadata": {},
   "source": [
    "5. Finally, filter the data by selecting reviews where the field <span style=\"background-color: #ccfff2\">overall</span> is 4 or 5, and store the review texts in a file named <span style=\"background-color: #ccfff2\">pos.txt</span>. Similarly, select reviews with rating 1 or 2 and store them in a file named <span style=\"background-color: #ccfff2\">neg.txt</span>. Ignore the reviews with overall rating 3. Each line in the two files should contain exactly one preprocessed review text without the rating."
   ]
  },
  {
   "cell_type": "code",
   "execution_count": 23,
   "metadata": {},
   "outputs": [
    {
     "name": "stdout",
     "output_type": "stream",
     "text": [
      "passed\n",
      "attempting to read data from disc\n",
      "filed opened\n",
      "Review cleanup results\n",
      "-----------------------\n",
      "Failed reviews: 866\n",
      "\n",
      "Positive reviews: 1475766\n",
      "Neutral reviews: 102626\n",
      "Negative reviews: 132261\n",
      "\n"
     ]
    }
   ],
   "source": [
    "def clean_string(original):\n",
    "    new = downcase_string(original)\n",
    "    new = clean_punctuation_stopwords(new)\n",
    "    return stem_string(new)\n",
    "assert clean_string(first_entry[\"reviewText\"]) == stemmed_and_cleaned_string\n",
    "print(\"passed\")\n",
    "\n",
    "pos = 0\n",
    "neg = 0\n",
    "others = 0\n",
    "fails = 0\n",
    "all_data = download_automotive_dataset()\n",
    "print(\"filed opened\")\n",
    "with open(\"pos.txt\", \"w\", encoding=\"utf-8\") as fp, \\\n",
    "     open(\"neg.txt\", \"w\", encoding=\"utf-8\") as fn:\n",
    "    for data in all_data:\n",
    "        try:\n",
    "            data = get_json(data)\n",
    "            score = data[\"overall\"]\n",
    "            text = clean_string(data[\"reviewText\"]) + \"\\n\"\n",
    "\n",
    "            if score > 3:\n",
    "                fp.write(text)\n",
    "                pos += 1\n",
    "            elif score < 3:\n",
    "                fn.write(text)\n",
    "                neg += 1\n",
    "            else:\n",
    "                others += 1  # score == 3 (neutral)\n",
    "        except KeyError:\n",
    "            fails += 1\n",
    "print(f\"\"\"Review cleanup results\n",
    "-----------------------\n",
    "Failed reviews: {fails}\n",
    "\n",
    "Positive reviews: {pos}\n",
    "Neutral reviews: {others}\n",
    "Negative reviews: {neg}\n",
    "\"\"\")"
   ]
  },
  {
   "cell_type": "markdown",
   "metadata": {},
   "source": [
    "## Exercise 3 | SQL basics\n",
    "\n",
    "Next, let's take a refresher on the basics of SQL. In this exercise, you will be working on the simplified Northwind 2000 SQLite database. You can download the database from Kaggle [here](https://courses.mooc.fi/api/v0/files/course/f92ffc32-2dd4-421d-87f3-c48800422cc5/files/VEKX2bxGCDGyojG902gmYZTXCnrAQw.zip).\n",
    "\n",
    "To test your SQL queries and complete the exercise, you can download and install SQLite if you don't yet have it installed.\n",
    "\n",
    "Please write SQL queries for the tasks on the simplified Northwind 2000 SQLite database.\n",
    "\n",
    "1. List the first name, last name, and hire date of all employees hired after January 1st, 1994.\n",
    "\n",
    "2. Count how many orders each customer has placed.\n",
    "\n",
    "3. Find the names of all customers who have ordered the product \"Chai\".\n",
    "\n",
    "4. Find all orders that have been placed but not yet shipped.\n",
    "\n",
    "5. Find the customer who has placed the most orders."
   ]
  },
  {
   "cell_type": "code",
   "execution_count": 119,
   "metadata": {},
   "outputs": [
    {
     "name": "stdout",
     "output_type": "stream",
     "text": [
      "----------\n",
      "TASK-ONE\n",
      "List the first name, last name, and hire date of all employees hired after January 1st, 1994.\n",
      "QUERY: SELECT FirstName, Lastname, HireDate FROM Employees WHERE HireDate >= '1994-01-01'\n",
      "('Robert', 'King', '1994-01-02')\n",
      "('Laura', 'Callahan', '1994-03-05')\n",
      "('Anne', 'Dodsworth', '1994-11-15')\n",
      "\n",
      "----------\n",
      "\n",
      "----------\n",
      "TASK-TWO\n",
      "Count how many orders each customer has placed.\n",
      "QUERY: SELECT ContactName, (SELECT COUNT(*) FROM Orders WHERE Orders.CustomerID = Customers.CustomerID) FROM Customers\n",
      "('Maria Anders', 6)\n",
      "('Ana Trujillo', 4)\n",
      "('Antonio Moreno', 7)\n",
      "('Thomas Hardy', 13)\n",
      "('Christina Berglund', 18)\n",
      "('Hanna Moos', 7)\n",
      "('Frédérique Citeaux', 11)\n",
      "('Martín Sommer', 3)\n",
      "('Laurence Lebihan', 17)\n",
      "('Elizabeth Lincoln', 14)\n",
      "('Victoria Ashworth', 10)\n",
      "('Patricio Simpson', 6)\n",
      "('Francisco Chang', 1)\n",
      "('Yang Wang', 8)\n",
      "('Pedro Afonso', 5)\n",
      "('Elizabeth Brown', 3)\n",
      "('Sven Ottlieb', 6)\n",
      "('Janine Labrune', 4)\n",
      "('Ann Devon', 8)\n",
      "('Roland Mendel', 30)\n",
      "('Aria Cruz', 7)\n",
      "('Diego Roel', 0)\n",
      "('Martine Rancé', 5)\n",
      "('Maria Larsson', 19)\n",
      "('Peter Franken', 15)\n",
      "('Carine Schmitt', 3)\n",
      "('Paolo Accorti', 6)\n",
      "('Lino Rodriguez', 8)\n",
      "('Eduardo Saavedra', 5)\n",
      "('José Pedro Freyre', 10)\n",
      "('André Fonseca', 9)\n",
      "('Howard Snyder', 11)\n",
      "('Manuel Pereira', 2)\n",
      "('Mario Pontes', 14)\n",
      "('Carlos Hernández', 18)\n",
      "('Yoshi Latimer', 5)\n",
      "('Patricia McKenna', 19)\n",
      "('Helen Bennett', 10)\n",
      "('Philip Cramer', 14)\n",
      "('Daniel Tonini', 4)\n",
      "('Annette Roulet', 14)\n",
      "('Yoshi Tannamuri', 3)\n",
      "('John Steel', 2)\n",
      "('Renate Messner', 15)\n",
      "('Jaime Yorres', 4)\n",
      "('Carlos González', 14)\n",
      "('Felipe Izquierdo', 12)\n",
      "('Fran Wilson', 8)\n",
      "('Giovanni Rovelli', 10)\n",
      "('Catherine Dewey', 7)\n",
      "('Jean Fresnière', 13)\n",
      "('Alexander Feuer', 5)\n",
      "('Simon Crowther', 3)\n",
      "('Yvonne Moncada', 5)\n",
      "('Rene Phillips', 10)\n",
      "('Henriette Pfalzheim', 10)\n",
      "('Marie Bertrand', 0)\n",
      "('Guillermo Fernández', 6)\n",
      "('Georg Pipps', 10)\n",
      "('Isabel de Castro', 5)\n",
      "('Bernardo Batista', 9)\n",
      "('Lúcia Carvalho', 13)\n",
      "('Horst Kloss', 28)\n",
      "('Sergio Gutiérrez', 5)\n",
      "('Paula Wilson', 18)\n",
      "('Maurizio Moroni', 12)\n",
      "('Janete Limeira', 11)\n",
      "('Michael Holz', 10)\n",
      "('Alejandra Camino', 5)\n",
      "('Jonas Bergulfsen', 6)\n",
      "('Jose Pavarotti', 31)\n",
      "('Hari Kumar', 9)\n",
      "('Jytte Petersen', 7)\n",
      "('Dominique Perrier', 4)\n",
      "('Art Braunschweiger', 9)\n",
      "('Pascale Cartrain', 12)\n",
      "('Liz Nixon', 4)\n",
      "('Liu Wong', 3)\n",
      "('Karin Josephs', 6)\n",
      "('Miguel Angel Paolino', 10)\n",
      "('Anabela Domingues', 6)\n",
      "('Helvetius Nagy', 3)\n",
      "('Palle Ibsen', 11)\n",
      "('Mary Saveley', 10)\n",
      "('Paul Henriot', 5)\n",
      "('Rita Müller', 10)\n",
      "('Pirkko Koskitalo', 15)\n",
      "('Paula Parente', 9)\n",
      "('Karl Jablonski', 14)\n",
      "('Matti Karttunen', 7)\n",
      "('Zbyszek Piestrzeniewicz', 7)\n",
      "\n",
      "----------\n",
      "\n",
      "----------\n",
      "TASK-THREE\n",
      "Find the names of all customers who have ordered the product \"Chai\".\n",
      "QUERY: SELECT ContactName FROM Customers WHERE Customers.CustomerID IN (SELECT CustomerID FROM Orders WHERE Orders.OrderID IN (SELECT OrderID FROM OrderDetails WHERE OrderDetails.ProductID == 1))\n",
      "('Christina Berglund',)\n",
      "('Frédérique Citeaux',)\n",
      "('Elizabeth Lincoln',)\n",
      "('Yang Wang',)\n",
      "('Janine Labrune',)\n",
      "('Ann Devon',)\n",
      "('José Pedro Freyre',)\n",
      "('Howard Snyder',)\n",
      "('Carlos Hernández',)\n",
      "('Patricia McKenna',)\n",
      "('Annette Roulet',)\n",
      "('Renate Messner',)\n",
      "('Felipe Izquierdo',)\n",
      "('Fran Wilson',)\n",
      "('Jean Fresnière',)\n",
      "('Simon Crowther',)\n",
      "('Guillermo Fernández',)\n",
      "('Isabel de Castro',)\n",
      "('Lúcia Carvalho',)\n",
      "('Horst Kloss',)\n",
      "('Paula Wilson',)\n",
      "('Jose Pavarotti',)\n",
      "('Hari Kumar',)\n",
      "('Pascale Cartrain',)\n",
      "('Liu Wong',)\n",
      "('Miguel Angel Paolino',)\n",
      "('Rita Müller',)\n",
      "('Pirkko Koskitalo',)\n",
      "('Paula Parente',)\n",
      "('Matti Karttunen',)\n",
      "('Zbyszek Piestrzeniewicz',)\n",
      "\n",
      "----------\n",
      "\n",
      "----------\n",
      "TASK-FOUR\n",
      "Find all orders that have been placed but not yet shipped.\n",
      "QUERY: SELECT * FROM Orders WHERE Orders.ShippedDate IS NULL\n",
      "(11008, 'ERNSH', 7, '1998-04-08 00:00:00.000', '1998-05-06 00:00:00.000', None, 3, 79.46)\n",
      "(11019, 'RANCH', 6, '1998-04-13 00:00:00.000', '1998-05-11 00:00:00.000', None, 3, 3.17)\n",
      "(11039, 'LINOD', 1, '1998-04-21 00:00:00.000', '1998-05-19 00:00:00.000', None, 2, 65)\n",
      "(11040, 'GREAL', 4, '1998-04-22 00:00:00.000', '1998-05-20 00:00:00.000', None, 3, 18.84)\n",
      "(11045, 'BOTTM', 6, '1998-04-23 00:00:00.000', '1998-05-21 00:00:00.000', None, 2, 70.58)\n",
      "(11051, 'LAMAI', 7, '1998-04-27 00:00:00.000', '1998-05-25 00:00:00.000', None, 3, 2.79)\n",
      "(11054, 'CACTU', 8, '1998-04-28 00:00:00.000', '1998-05-26 00:00:00.000', None, 1, 0.33)\n",
      "(11058, 'BLAUS', 9, '1998-04-29 00:00:00.000', '1998-05-27 00:00:00.000', None, 3, 31.14)\n",
      "(11059, 'RICAR', 2, '1998-04-29 00:00:00.000', '1998-06-10 00:00:00.000', None, 2, 85.8)\n",
      "(11061, 'GREAL', 4, '1998-04-30 00:00:00.000', '1998-06-11 00:00:00.000', None, 3, 14.01)\n",
      "(11062, 'REGGC', 4, '1998-04-30 00:00:00.000', '1998-05-28 00:00:00.000', None, 2, 29.93)\n",
      "(11065, 'LILAS', 8, '1998-05-01 00:00:00.000', '1998-05-29 00:00:00.000', None, 1, 12.91)\n",
      "(11068, 'QUEEN', 8, '1998-05-04 00:00:00.000', '1998-06-01 00:00:00.000', None, 2, 81.75)\n",
      "(11070, 'LEHMS', 2, '1998-05-05 00:00:00.000', '1998-06-02 00:00:00.000', None, 1, 136)\n",
      "(11071, 'LILAS', 1, '1998-05-05 00:00:00.000', '1998-06-02 00:00:00.000', None, 1, 0.93)\n",
      "(11072, 'ERNSH', 4, '1998-05-05 00:00:00.000', '1998-06-02 00:00:00.000', None, 2, 258.64)\n",
      "(11073, 'PERIC', 2, '1998-05-05 00:00:00.000', '1998-06-02 00:00:00.000', None, 2, 24.95)\n",
      "(11074, 'SIMOB', 7, '1998-05-06 00:00:00.000', '1998-06-03 00:00:00.000', None, 2, 18.44)\n",
      "(11075, 'RICSU', 8, '1998-05-06 00:00:00.000', '1998-06-03 00:00:00.000', None, 2, 6.19)\n",
      "(11076, 'BONAP', 4, '1998-05-06 00:00:00.000', '1998-06-03 00:00:00.000', None, 2, 38.28)\n",
      "(11077, 'RATTC', 1, '1998-05-06 00:00:00.000', '1998-06-03 00:00:00.000', None, 2, 8.53)\n",
      "\n",
      "----------\n",
      "\n",
      "----------\n",
      "TASK-FIVE\n",
      "Find the customer who has placed the most orders.\n",
      "QUERY: SELECT ContactName, (SELECT COUNT(*) FROM Orders WHERE Orders.CustomerID = Customers.CustomerID) as OrderCount FROM Customers ORDER BY OrderCount DESC LIMIT 1 \n",
      "('Jose Pavarotti', 31)\n",
      "\n",
      "----------\n",
      "\n"
     ]
    }
   ],
   "source": [
    "import sqlite3\n",
    "\n",
    "def perform_query(query, cursor):\n",
    "    cursor.execute(query)\n",
    "    rows = cursor.fetchall()\n",
    "    for row in rows:\n",
    "        print(row)\n",
    "\n",
    "conn = sqlite3.connect(\"northwind2000-simplified.sqlite\")  # Adjust the filename if it's different\n",
    "cursor = conn.cursor()\n",
    "\n",
    "def info(table=None):\n",
    "    if not table:\n",
    "        return\n",
    "    print(f\"Table: {table}\")\n",
    "    perform_query(f\"PRAGMA table_info({table});\", cursor)\n",
    "\n",
    "def basic_db_info():\n",
    "    perform_query(\"SELECT name FROM sqlite_master WHERE type = 'table' ORDER BY name;\", cursor)\n",
    "\n",
    "def first_task():\n",
    "    print(\"-\"*10)\n",
    "    print(\"TASK-ONE\")\n",
    "    print(\"List the first name, last name, and hire date of all employees hired after January 1st, 1994.\")\n",
    "    query = \"SELECT FirstName, Lastname, HireDate FROM Employees WHERE HireDate >= '1994-01-01'\"\n",
    "    print(f\"QUERY: {query}\")\n",
    "    perform_query(query, cursor)\n",
    "    print(\"\\n\" + \"-\"*10 + \"\\n\")\n",
    "    \n",
    "def second_task():\n",
    "    print(\"-\"*10)\n",
    "    print(\"TASK-TWO\")\n",
    "    print(\"Count how many orders each customer has placed.\")\n",
    "    query = \"SELECT ContactName, (SELECT COUNT(*) FROM Orders WHERE Orders.CustomerID = Customers.CustomerID) FROM Customers\"\n",
    "    print(f\"QUERY: {query}\")\n",
    "    perform_query(query, cursor)\n",
    "    print(\"\\n\" + \"-\"*10 + \"\\n\")\n",
    "\n",
    "def third_task():\n",
    "    print(\"-\"*10)\n",
    "    print(\"TASK-THREE\")\n",
    "    print('Find the names of all customers who have ordered the product \"Chai\".')\n",
    "    query = \"SELECT ContactName FROM Customers WHERE Customers.CustomerID IN (SELECT CustomerID FROM Orders WHERE Orders.OrderID IN (SELECT OrderID FROM OrderDetails WHERE OrderDetails.ProductID == 1))\"\n",
    "    print(f\"QUERY: {query}\")\n",
    "    perform_query(query, cursor)\n",
    "    print(\"\\n\" + \"-\"*10 + \"\\n\")\n",
    "\n",
    "def fourth_task():\n",
    "    print(\"-\"*10)\n",
    "    print(\"TASK-FOUR\")\n",
    "    print(\"Find all orders that have been placed but not yet shipped.\")\n",
    "    query = \"SELECT * FROM Orders WHERE Orders.ShippedDate IS NULL\"\n",
    "    print(f\"QUERY: {query}\")\n",
    "    perform_query(query, cursor)\n",
    "    print(\"\\n\" + \"-\"*10 + \"\\n\")\n",
    "\n",
    "def fifth_task():\n",
    "    print(\"-\"*10)\n",
    "    print(\"TASK-FIVE\")\n",
    "    print(\"Find the customer who has placed the most orders.\")\n",
    "    query = \"SELECT ContactName, (SELECT COUNT(*) FROM Orders WHERE Orders.CustomerID = Customers.CustomerID) as OrderCount FROM Customers ORDER BY OrderCount DESC LIMIT 1 \"\n",
    "    print(f\"QUERY: {query}\")\n",
    "    perform_query(query, cursor)\n",
    "    print(\"\\n\" + \"-\"*10 + \"\\n\")\n",
    "\n",
    "first_task()\n",
    "second_task()\n",
    "third_task()\n",
    "fourth_task()\n",
    "fifth_task()\n",
    "\n",
    "conn.close()\n",
    "\n",
    "\n"
   ]
  },
  {
   "cell_type": "markdown",
   "metadata": {},
   "source": [
    "**Remember to submit your solutions. You can return this Jupyter notebook (.ipynb) or .py, .R, etc depending on your programming preferences. Remember to also submit your SQL queries. No need to submit the text files for the programming exercises.**"
   ]
  }
 ],
 "metadata": {
  "kernelspec": {
   "display_name": "sklearn",
   "language": "python",
   "name": "python3"
  },
  "language_info": {
   "codemirror_mode": {
    "name": "ipython",
    "version": 3
   },
   "file_extension": ".py",
   "mimetype": "text/x-python",
   "name": "python",
   "nbconvert_exporter": "python",
   "pygments_lexer": "ipython3",
   "version": "3.12.2"
  }
 },
 "nbformat": 4,
 "nbformat_minor": 4
}
