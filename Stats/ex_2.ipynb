{
 "cells": [
  {
   "cell_type": "markdown",
   "id": "7803efaf",
   "metadata": {},
   "source": [
    "# Week 2 stats exercises\n",
    "\n",
    "## Problem 1.\n",
    "\n",
    "Let $X_1,...,X_n \\sim \\text{Bernoulli}(p)$\n",
    "\n",
    "### 1.1\n",
    "\n",
    "Find the plug-in estimator for $p$.\n",
    "\n",
    "The plug-in estimator for $p$ is the sample mean, which is: $\\hat{p} = \\frac{1}{n}\\sum_{i=1}^n X_i = \\bar{X}$\n",
    "\n",
    "\n",
    "### 1.2.\n",
    "\n",
    "Find the corresponding estimated standard error for $p$\n",
    "\n",
    "$\n",
    "SE(\\hat{p}) = \\sqrt{Var(\\hat{p})}\n",
    "$\n",
    "\n",
    "$Var(\\hat{p}) = Var(\\frac{1}{n}\\sum_{i=1}^n X_i)$\n",
    "\n",
    "From variance rules: $Var(aX) = a^2 \\cdot Var(X)$\n",
    "\n",
    "$Var(\\hat{p}) =\\frac{1}{n^2} Var(\\sum_{i=1}^n X_i)$\n",
    "\n",
    "Also sum of independent variances is: $Var(X+Y)=Var(X) + Var(Y)$\n",
    "\n",
    "$Var(\\hat{p}) =\\frac{1}{n^2} \\sum_{i=1}^n Var(X_i)$\n",
    "\n",
    "Since $Var(X_i) = Var(X_j)$ for all $i,j \\in \\{0, ..., n\\} $\n",
    "\n",
    "$Var(\\hat{p}) =\\frac{1}{n^2} n \\cdot Var(X_i)$\n",
    "\n",
    "$Var(\\hat{p}) =\\frac{Var(X_i)}{n}$\n",
    "\n",
    "Using estimator $\\hat{p}$ for $Var(X_i)$ and Bernoulli variance rule: $Var[X] = p(1-p)$\n",
    "\n",
    "$Var(\\hat{p}) =\\frac{p(1 - p )}{n}$\n",
    "\n",
    "$SE(\\hat{p}) = \\sqrt{Var(p)}$\n",
    "\n",
    "$SE(\\hat{p}) = \\sqrt{\\frac{p(1 - p )}{n}}$\n",
    "\n",
    "Writing the $SE$ as sum:\n",
    "\n",
    "$Var(\\hat{p}) =\\frac{1}{n^2} \\sum_{i=1}^n p(1-p)$\n",
    "\n",
    "$SE(\\hat{p}) = \\sqrt{Var(\\hat{p})}$\n",
    "\n",
    "$SE(\\hat{p}) = \\sqrt{\\frac{1}{n^2} \\sum_{i=1}^n p(1-p)}$ \n",
    "\n",
    "or alternatively:\n",
    "\n",
    "$SE(\\hat{p}) = \\sqrt{\\frac{1}{n^2} \\sum_{i=1}^n \\bar{ X_i}(1-\\bar{ X_i})}$\n",
    "\n",
    "\n",
    "Unfortunately there is quite a few possible formulations here for the correct answer. I couldn't get any of them through the moodle automic check, so here is the list of alternatives again:\n",
    "\n",
    "$SE(\\hat{p}) = \\sqrt{\\frac{1}{n^2} \\sum_{i=1}^n \\bar{ X_i}(1-\\bar{ X_i})}$\n",
    "\n",
    "$SE(\\hat{p}) = \\sqrt{\\frac{1}{n^2} \\sum_{i=1}^n p(1-p)}$ \n",
    "\n",
    "$SE(\\hat{p}) = \\sqrt{\\frac{p(1 - p )}{n}}$\n"
   ]
  },
  {
   "cell_type": "markdown",
   "id": "7cf1416f",
   "metadata": {},
   "source": [
    "## Problem 2.\n",
    "\n",
    "(Computer Exercise) In this exercise we will study the correlation between cholesterol levels and presence of a heart disease using bootstrapping."
   ]
  },
  {
   "cell_type": "code",
   "execution_count": 15,
   "id": "1952e70b",
   "metadata": {},
   "outputs": [
    {
     "name": "stdout",
     "output_type": "stream",
     "text": [
      "Pearson correlation coefficient: 0.085\n"
     ]
    }
   ],
   "source": [
    "import pandas as pd\n",
    "import numpy as np\n",
    "\n",
    "def calculate_pho(dataframe, column_one, column_two):\n",
    "    return np.cov(dataframe[column_one], dataframe[column_two])[0][1] / (np.std(dataframe[column_one]) * np.std(dataframe[column_two]))\n",
    "\n",
    "data = pd.read_csv(\"week2_heart_disease_data.csv\", index_col=0)\n",
    "\n",
    "df = data[['chol', 'heart-disease']].copy()\n",
    "df['heart-disease'] = (df['heart-disease'] > 0).astype(int)\n",
    "\n",
    "pho = calculate_pho(df, 'chol', 'heart-disease')\n",
    "print(f\"Pearson correlation coefficient: {pho:.3f}\")"
   ]
  },
  {
   "cell_type": "markdown",
   "id": "521d2c74",
   "metadata": {},
   "source": [
    "Use bootstrapping with 1000 resamples to form a standard error estimate for the correlation."
   ]
  },
  {
   "cell_type": "code",
   "execution_count": 16,
   "id": "9ec159de",
   "metadata": {},
   "outputs": [
    {
     "name": "stdout",
     "output_type": "stream",
     "text": [
      "Standard error estimate. SE: 0.0584\n"
     ]
    }
   ],
   "source": [
    "def get_sample_with_replacements(sample):\n",
    "    rng = np.random.default_rng()\n",
    "    size = sample.shape[0]\n",
    "    ints = rng.integers(0, size, size=size)\n",
    "    return sample.iloc[ints]\n",
    "\n",
    "pho_list = np.array([calculate_pho(get_sample_with_replacements(df), 'chol', 'heart-disease') for _ in range(1000)])\n",
    "\n",
    "se_mean = pho_list.mean()\n",
    "se_std = pho_list.std(ddof=1)\n",
    "\n",
    "print(f\"Standard error estimate. SE: {se_std:.4f}\")"
   ]
  },
  {
   "cell_type": "markdown",
   "id": "dbfd2391",
   "metadata": {},
   "source": [
    "Compute a 95% bootstrap confidence interval for the correlation using the Normal Interval, Percentile Interval and Pivotal Interval."
   ]
  },
  {
   "cell_type": "code",
   "execution_count": 17,
   "id": "e4d35ee5",
   "metadata": {},
   "outputs": [
    {
     "name": "stdout",
     "output_type": "stream",
     "text": [
      "Normal confidence interval:     (-0.0271, 0.2019)\n",
      "Percentile confidence interval: (-0.0277, 0.2004)\n",
      "Pivotal confidence interval:    (-0.0255, 0.2025)\n"
     ]
    }
   ],
   "source": [
    "from scipy.stats import norm\n",
    "\n",
    "# Normal interval\n",
    "\n",
    "alpha = 0.05\n",
    "z = norm.ppf(1 - alpha/2)\n",
    "ci_normal = (pho_list.mean() - z * pho_list.std(ddof=1), pho_list.mean() + z * pho_list.std(ddof=1))\n",
    "print(f\"Normal confidence interval:     ({ci_normal[0]:.4f}, {ci_normal[1]:.4f})\")\n",
    "\n",
    "# Percentile \n",
    "\n",
    "lower = np.percentile(pho_list, 2.5)\n",
    "upper = np.percentile(pho_list, 97.5)\n",
    "print(f\"Percentile confidence interval: ({lower:.4f}, {upper:.4f})\")\n",
    "\n",
    "# Pivotal\n",
    "\n",
    "lower_q = np.percentile(pho_list, 100 * (1 - alpha/2))\n",
    "upper_q = np.percentile(pho_list, 100 * (alpha/2))\n",
    "\n",
    "ci_pivotal = (2 * se_mean - lower_q, 2 * se_mean - upper_q)\n",
    "print(f\"Pivotal confidence interval:    ({ci_pivotal[0]:.4f}, {ci_pivotal[1]:.4f})\")\n"
   ]
  },
  {
   "cell_type": "markdown",
   "id": "b43e0d8f",
   "metadata": {},
   "source": [
    "# Problem 3.\n",
    "\n",
    "Suppose we have a computer program consisting of 100 pages of code. Let $X_i$ be the number of errors on the $i^th$ page of code. Suppose that the $X_i$ s are Poisson with mean 1 and that they are independent. \n",
    "\n",
    "\n",
    "Let $Y=\\sum_{i=1}^n X_i$ be the total number of errors. Use the central limit theorem to approximate $P(Y < 90)$."
   ]
  },
  {
   "cell_type": "markdown",
   "id": "919baa1b",
   "metadata": {},
   "source": [
    "The mean for the total number of errors is the sum of $X_i$ means which is $100 \\cdot 1 = 100$\n",
    "\n",
    "Since the random variables are independent, the variance of the sum of all random variables is the sum of all individual variances:\n",
    "\n",
    "$Var(Y)=\\sum_{i=1}^{100} Var(X_i) = \\sum_{i=1}^{100} 1 = 100$"
   ]
  },
  {
   "cell_type": "markdown",
   "id": "e914bc86",
   "metadata": {},
   "source": [
    "So $Y$ follows a normal distribution with mean $\\mu=100$ and standard deviation of $\\sigma=\\sqrt{Var(Y)} = \\sqrt{100} = 10$\n",
    "\n",
    "Convert Y to normal variable $Z$\n",
    "\n",
    "$Z=\\frac{Y - \\mu}{\\sigma} = \\frac{90 - 100 }{10} = -1$\n",
    "\n",
    "So $P(Y < 90) = P(Z<-1) = 0.1587$"
   ]
  },
  {
   "cell_type": "code",
   "execution_count": 18,
   "id": "d862ba92",
   "metadata": {},
   "outputs": [
    {
     "name": "stdout",
     "output_type": "stream",
     "text": [
      "P(Y<90) = 15.87%\n"
     ]
    }
   ],
   "source": [
    "import scipy\n",
    "print(f\"P(Y<90) = {scipy.stats.norm.cdf(-1)*100:.2f}%\")"
   ]
  },
  {
   "cell_type": "markdown",
   "id": "82dbdd94",
   "metadata": {},
   "source": [
    "# Problem 4.\n",
    "\n",
    "Let $X_1, ... ,X_n \\sim Poisson(\\lambda)$ and define an estimator $\\hat \\lambda = \\frac{1}{n}\\sum_{i=1}^n X_i $\n",
    " \n",
    "### 4.1. Find the bias\n",
    "\n",
    "Let $Y=\\sum_{i=1}^n X_i$\n",
    "\n",
    "Sum of random poisson variables is a new poisson variable where the new $\\lambda$ is the sum of previous $\\lambda$ s.\n",
    "\n",
    "Therefore: $Y=Poisson(\\sum_{i=1}^n \\lambda)$\n",
    "\n",
    "The expected value of $E[Y] = n \\cdot \\lambda$.\n",
    "\n",
    "Expected average value $\\frac{E[Y]}{n} = \\lambda$\n",
    "\n",
    "$Bias(\\hat \\lambda) = E[\\hat \\lambda] - \\frac{E[Y]}{n} = \\lambda - \\lambda = 0$\n"
   ]
  },
  {
   "cell_type": "markdown",
   "id": "07553aad",
   "metadata": {},
   "source": [
    "### 4.2. Find the standard error (se)\n",
    "\n",
    "Standard error of estimator is $SE(\\hat \\theta) = \\sqrt{Var(\\hat \\theta)}$\n",
    "\n",
    "$Var(\\hat \\lambda) = Var(\\frac{1}{n} \\sum_{i=1}^n X_i)$\n",
    "\n",
    "$Var(\\hat \\lambda) = (\\frac{1}{n})^2 \\cdot Var( \\sum_{i=1}^n X_i)$\n",
    "\n",
    "$Var(\\hat \\lambda) = \\frac{1}{n^2} \\cdot \\sum_{i=1}^n \\lambda$\n",
    "\n",
    "$Var(\\hat \\lambda) = \\frac{1}{n^2} \\cdot n \\cdot \\lambda$\n",
    "\n",
    "$Var(\\hat \\lambda) = \\frac{\\lambda}{n} $\n",
    "\n",
    "$SE(\\hat \\lambda) = \\sqrt{Var(\\hat \\theta)}$\n",
    "\n",
    "$SE(\\hat \\lambda) = \\sqrt{\\frac{\\lambda}{n} }$\n"
   ]
  },
  {
   "cell_type": "markdown",
   "id": "d9463349",
   "metadata": {},
   "source": [
    "### 4.3. Find the mean squared error (MSE) of this estimator.\n",
    "\n",
    "MSE definition: $MSE(\\hat \\theta) = E[(\\hat \\theta - \\theta)^2] = Var(\\hat \\theta) + (Bias(\\hat \\theta))^2$\n",
    "\n",
    "$Var(\\hat \\lambda) + (Bias(\\hat \\lambda))^2 = Var(\\hat \\lambda) + 0^2$\n",
    "\n",
    "$Var(\\hat \\lambda) + (Bias(\\hat \\lambda))^2= \\frac{\\lambda}{n} $\n",
    "\n",
    "$MSE(\\hat \\lambda) = \\frac{\\lambda}{n}$"
   ]
  },
  {
   "cell_type": "markdown",
   "id": "5c2dce88",
   "metadata": {},
   "source": [
    "# Problem 5.\n",
    "\n",
    "1. Estimate the probability of $Binom(10, 1/2)=5$ based on $n=100$ samples from the distribution."
   ]
  },
  {
   "cell_type": "code",
   "execution_count": 19,
   "id": "e718ec56",
   "metadata": {},
   "outputs": [
    {
     "name": "stdout",
     "output_type": "stream",
     "text": [
      "Estimate of Binom(10, 1/2)=5 is 0.27\n"
     ]
    }
   ],
   "source": [
    "from random import randint\n",
    "\n",
    "def simulate():\n",
    "    return sum([randint(0, 1) for _ in range(10)])\n",
    "\n",
    "def get_estimate():\n",
    "    samples = [simulate() for _ in range(100)]\n",
    "    return sum([1 for i in samples if i == 5]) / len(samples)\n",
    "\n",
    "estimate = get_estimate()\n",
    "print(f\"Estimate of Binom(10, 1/2)=5 is {estimate}\")"
   ]
  },
  {
   "cell_type": "markdown",
   "id": "a0acb216",
   "metadata": {},
   "source": [
    "Repeat the estimation $m=1000$ times, and compute fraction of repeats where the estimate lies in $[0.16, 0.33]$"
   ]
  },
  {
   "cell_type": "code",
   "execution_count": 20,
   "id": "aa5999e4",
   "metadata": {},
   "outputs": [
    {
     "name": "stdout",
     "output_type": "stream",
     "text": [
      "Proportion of estimates within [0.16, 0.33] = 0.967\n"
     ]
    }
   ],
   "source": [
    "m = 1000\n",
    "many_estimates = [get_estimate() for _ in range(m)]\n",
    "within = lambda x: (x >= 0.16 and x <= 0.33)\n",
    "\n",
    "within_estimates = [estimate for estimate in many_estimates if within(estimate)]\n",
    "proportion_of_within = len(within_estimates) / m\n",
    "print(f\"Proportion of estimates within [0.16, 0.33] = {proportion_of_within}\")"
   ]
  },
  {
   "cell_type": "markdown",
   "id": "eb81e7eb",
   "metadata": {},
   "source": [
    "Derive an analytical distribution for the estimator. Denote the corresponding random variable with $Y$. Compute the probability that $PR(0.16 \\leq Y \\leq 0.33)$\n",
    "\n",
    "Let $X=Binom(10, 1/2)$\n",
    "\n",
    "$P(X=5) = \\binom{10}{5}\\cdot \\frac{1}{2}^{10} $\n",
    "\n"
   ]
  },
  {
   "cell_type": "code",
   "execution_count": 21,
   "id": "9c89b770",
   "metadata": {},
   "outputs": [
    {
     "name": "stdout",
     "output_type": "stream",
     "text": [
      "10 choose 5: 252\n",
      "2^10:        1024\n"
     ]
    }
   ],
   "source": [
    "from scipy.special import comb\n",
    "print(f\"10 choose 5: {int(comb(10,5))}\")\n",
    "print(f\"2^10:        {2**10}\")"
   ]
  },
  {
   "cell_type": "markdown",
   "id": "c11512d6",
   "metadata": {},
   "source": [
    "$P(X=5) = 252 \\cdot \\frac{1}{1024} $\n",
    "\n",
    "$P(X=5) = \\frac{252}{1024} $\n",
    "\n",
    "$P(X=5) = \\frac{63}{256}$\n",
    "\n",
    "If we are repeating the \"test\" m times, we can write the probablity of seeing $P(X=5)$ $m$ times as:\n",
    "\n",
    "$\\hat X=Binom(100, \\frac{63}{256})$\n",
    "\n",
    "$Y = \\frac{\\hat X}{100} $\n",
    "\n",
    "$Pr(0.16 \\leq Y \\leq 0.33) = 1 - (Pr(Y < 0.16) + Pr(Y > 0.33))$\n",
    "\n",
    "$Pr(Y < 0.16) = Pr(\\hat X < 16)$\n",
    "\n",
    "$Pr(Y > 0.33) = 1 - Pr(Y <= 0.33) $\n",
    "\n",
    "$Pr(Y > 0.33) = 1 - Pr(\\hat X <= 34) $\n",
    "\n",
    "$Pr(\\hat X < n) = \\sum_{i=0}^{n-1} \\binom{100}{i}\\frac{63}{256}^i\\cdot \\frac{256-63}{256}^{100 -i}$\n",
    "\n",
    "$Pr(\\hat X \\leq n) = \\sum_{i=0}^{n} \\binom{100}{i}\\frac{63}{256}^i\\cdot \\frac{256-63}{256}^{100 -i}$"
   ]
  },
  {
   "cell_type": "code",
   "execution_count": 23,
   "id": "2d8f4125",
   "metadata": {},
   "outputs": [
    {
     "name": "stdout",
     "output_type": "stream",
     "text": [
      "Pr(0.16 <= Y <= 0.33) = 0.964\n"
     ]
    }
   ],
   "source": [
    "def calculate_X_hat_smaller_than_n(n, p, m):\n",
    "    pr = 0\n",
    "    for i in range(n):\n",
    "        pr += comb(m, i) * (p ** i) * ((1 - p)**(m-i))\n",
    "    return pr\n",
    "\n",
    "def calculate_X_hat_smaller_or_equal_than_n(n, p, m):\n",
    "    pr = 0\n",
    "    for i in range(n + 1):\n",
    "        pr += comb(m, i) * (p ** i) * ((1 - p)**(m-i))\n",
    "    return pr\n",
    "\n",
    "y_more_than_33 = 1 - calculate_X_hat_smaller_or_equal_than_n(33, 63/256, 100)\n",
    "y_less_than_16 = calculate_X_hat_smaller_than_n(16, 63/256, 100)\n",
    "\n",
    "y_between_values = 1 - (y_less_than_16 + y_more_than_33)\n",
    "print(f\"Pr(0.16 <= Y <= 0.33) = {y_between_values:.3f}\")\n"
   ]
  },
  {
   "cell_type": "markdown",
   "id": "db1c4fc6",
   "metadata": {},
   "source": [
    "$Pr(0.16 \\leq Y \\leq 0.33) \\approx 0,964$"
   ]
  }
 ],
 "metadata": {
  "kernelspec": {
   "display_name": "sklearn",
   "language": "python",
   "name": "python3"
  },
  "language_info": {
   "codemirror_mode": {
    "name": "ipython",
    "version": 3
   },
   "file_extension": ".py",
   "mimetype": "text/x-python",
   "name": "python",
   "nbconvert_exporter": "python",
   "pygments_lexer": "ipython3",
   "version": "3.12.2"
  }
 },
 "nbformat": 4,
 "nbformat_minor": 5
}
